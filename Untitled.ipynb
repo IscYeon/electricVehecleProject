{
 "cells": [
  {
   "cell_type": "code",
   "execution_count": 5,
   "id": "26ef80a0-478a-41db-bf32-d2ce6db50bb9",
   "metadata": {},
   "outputs": [],
   "source": [
    "def merge_lists(a,b):\n",
    "    c = []\n",
    "    \n",
    "    a_idx = 0\n",
    "    b_idx = 0\n",
    "    \n",
    "    while a_idx < len(a) and b_idx < len(b):\n",
    "        if a[a_idx] <= b[b_idx]:\n",
    "            c.append(a[a_idx])\n",
    "            a_idx = a_idx + 1\n",
    "        else:\n",
    "            c.append(b[b_idx])\n",
    "            b_idx = b_idx + 1\n",
    "            \n",
    "    if a_idx < len(a):\n",
    "        c.extend(a[a_idx:])\n",
    "    else:\n",
    "        c.extend(b[b_idx:])\n",
    "        \n",
    "    return c"
   ]
  },
  {
   "cell_type": "code",
   "execution_count": 6,
   "id": "df1e6536-0f5f-4d0c-9148-c1aeac4c7019",
   "metadata": {},
   "outputs": [
    {
     "data": {
      "text/plain": [
       "[1, 2, 3, 4, 5, 6, 7, 8, 9, 10, 133, 299]"
      ]
     },
     "execution_count": 6,
     "metadata": {},
     "output_type": "execute_result"
    }
   ],
   "source": [
    "Q = [1,3,5,7,9, 299]\n",
    "R = [2,4,6,8,10, 133]\n",
    "\n",
    "merge_lists(Q,R)"
   ]
  },
  {
   "cell_type": "code",
   "execution_count": null,
   "id": "68c0cb0b-6cd4-4d8a-94f5-edc38b7bdf40",
   "metadata": {},
   "outputs": [],
   "source": []
  },
  {
   "cell_type": "code",
   "execution_count": null,
   "id": "1a96f620-f97b-46b0-b4b6-e2d6d5f95193",
   "metadata": {},
   "outputs": [],
   "source": []
  },
  {
   "cell_type": "code",
   "execution_count": null,
   "id": "b89e3239-c1c6-4082-80cb-a98f024edb61",
   "metadata": {},
   "outputs": [],
   "source": []
  },
  {
   "cell_type": "code",
   "execution_count": null,
   "id": "37e38567-e33d-4891-8cb5-d54cdc7b3031",
   "metadata": {},
   "outputs": [],
   "source": []
  },
  {
   "cell_type": "code",
   "execution_count": 18,
   "id": "630ad9a7-13b5-41c2-80a9-270df297529f",
   "metadata": {},
   "outputs": [
    {
     "name": "stdin",
     "output_type": "stream",
     "text": [
      " 언제 집에 가지 1 2 3\n"
     ]
    },
    {
     "data": {
      "text/plain": [
       "['언제', '집에', '가지', '1', '2', '3']"
      ]
     },
     "execution_count": 18,
     "metadata": {},
     "output_type": "execute_result"
    }
   ],
   "source": [
    "txt_list = input().split()\n",
    "txt_list"
   ]
  },
  {
   "cell_type": "code",
   "execution_count": 17,
   "id": "81a687a2-5446-4224-a28d-e90f79eedc0d",
   "metadata": {},
   "outputs": [
    {
     "name": "stdin",
     "output_type": "stream",
     "text": [
      " 언제 집에 가지 1 3 5 7 9\n"
     ]
    },
    {
     "data": {
      "text/plain": [
       "['9', '7', '5', '3', '1', '가지', '집에', '언제']"
      ]
     },
     "execution_count": 17,
     "metadata": {},
     "output_type": "execute_result"
    }
   ],
   "source": [
    "txt_list = input().split()\n",
    "\n",
    "txt_list[::-1]"
   ]
  },
  {
   "cell_type": "code",
   "execution_count": null,
   "id": "4a2e4db9-977c-4fbb-96a0-ce80d0888905",
   "metadata": {},
   "outputs": [],
   "source": []
  },
  {
   "cell_type": "code",
   "execution_count": 22,
   "id": "23058188-717c-4bb2-9c52-fcae078136f2",
   "metadata": {},
   "outputs": [
    {
     "ename": "IndentationError",
     "evalue": "expected an indented block (3535435756.py, line 9)",
     "output_type": "error",
     "traceback": [
      "\u001b[0;36m  File \u001b[0;32m\"/var/folders/4y/3s4dhdy90gj8rv5d13z_cp0m0000gn/T/ipykernel_2236/3535435756.py\"\u001b[0;36m, line \u001b[0;32m9\u001b[0m\n\u001b[0;31m    \u001b[0m\n\u001b[0m    ^\u001b[0m\n\u001b[0;31mIndentationError\u001b[0m\u001b[0;31m:\u001b[0m expected an indented block\n"
     ]
    }
   ],
   "source": [
    "N = int(input())\n",
    "idx = N\n",
    "Nlist = []\n",
    "\n",
    "for i in range(N):\n",
    "    Nlist.append(i)\n",
    "\n",
    "while len(Nlist) == 1:\n",
    "    "
   ]
  },
  {
   "cell_type": "code",
   "execution_count": null,
   "id": "8fd0fd33-c0f5-44ab-b20d-0ff0fd221d79",
   "metadata": {},
   "outputs": [],
   "source": []
  }
 ],
 "metadata": {
  "kernelspec": {
   "display_name": "Python 3 (ipykernel)",
   "language": "python",
   "name": "python3"
  },
  "language_info": {
   "codemirror_mode": {
    "name": "ipython",
    "version": 3
   },
   "file_extension": ".py",
   "mimetype": "text/x-python",
   "name": "python",
   "nbconvert_exporter": "python",
   "pygments_lexer": "ipython3",
   "version": "3.9.7"
  }
 },
 "nbformat": 4,
 "nbformat_minor": 5
}
