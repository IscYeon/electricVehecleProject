{
 "cells": [
  {
   "cell_type": "markdown",
   "id": "e41b1b90-df36-4a74-b897-003d3c425f26",
   "metadata": {},
   "source": [
    "<div style=\"text-align: right\"> <b>데이터분석과기계학습 프로젝트(연이삭)</b></div>\n",
    "\n",
    "---"
   ]
  },
  {
   "cell_type": "code",
   "execution_count": 1,
   "id": "33630206-acf6-41dd-9419-5067587cad09",
   "metadata": {},
   "outputs": [],
   "source": [
    "import os\n",
    "import pandas as pd\n",
    "import numpy as np\n",
    "import matplotlib.pyplot as plt\n",
    "import seaborn as sns"
   ]
  },
  {
   "cell_type": "code",
   "execution_count": 2,
   "id": "c770464a-55d4-4320-8250-143ee497c708",
   "metadata": {},
   "outputs": [
    {
     "data": {
      "text/html": [
       "<div>\n",
       "<style scoped>\n",
       "    .dataframe tbody tr th:only-of-type {\n",
       "        vertical-align: middle;\n",
       "    }\n",
       "\n",
       "    .dataframe tbody tr th {\n",
       "        vertical-align: top;\n",
       "    }\n",
       "\n",
       "    .dataframe thead th {\n",
       "        text-align: right;\n",
       "    }\n",
       "</style>\n",
       "<table border=\"1\" class=\"dataframe\">\n",
       "  <thead>\n",
       "    <tr style=\"text-align: right;\">\n",
       "      <th></th>\n",
       "      <th>Transaction Month and Year</th>\n",
       "      <th>Make</th>\n",
       "      <th>Model</th>\n",
       "      <th>Model Year</th>\n",
       "      <th>Vehicle Color</th>\n",
       "      <th>Vehicle Type</th>\n",
       "      <th>Vehicle Primary Use</th>\n",
       "      <th>Fuel Type Primary</th>\n",
       "      <th>Gross Vehicle Weight Rating Class</th>\n",
       "      <th>Gross Vehicle Weight Rating Range (lbs)</th>\n",
       "      <th>...</th>\n",
       "      <th>Plate Configuration</th>\n",
       "      <th>Owner Type</th>\n",
       "      <th>County</th>\n",
       "      <th>State</th>\n",
       "      <th>Postal Code</th>\n",
       "      <th>Transaction Type</th>\n",
       "      <th>Transaction Channel</th>\n",
       "      <th>Payment Type</th>\n",
       "      <th>2020 Census Tract</th>\n",
       "      <th>Transaction Count</th>\n",
       "    </tr>\n",
       "  </thead>\n",
       "  <tbody>\n",
       "    <tr>\n",
       "      <th>0</th>\n",
       "      <td>January 2022</td>\n",
       "      <td>HONDA</td>\n",
       "      <td>INSIGHT</td>\n",
       "      <td>2019</td>\n",
       "      <td>NaN</td>\n",
       "      <td>PASSENGER CAR</td>\n",
       "      <td>Passenger</td>\n",
       "      <td>Gasoline</td>\n",
       "      <td>NaN</td>\n",
       "      <td>NaN</td>\n",
       "      <td>...</td>\n",
       "      <td>Standard</td>\n",
       "      <td>Individual Owner</td>\n",
       "      <td>Pierce</td>\n",
       "      <td>WA</td>\n",
       "      <td>98374</td>\n",
       "      <td>Registration Renewal</td>\n",
       "      <td>Online</td>\n",
       "      <td>Debit/Credit Card</td>\n",
       "      <td>73123.0</td>\n",
       "      <td>1</td>\n",
       "    </tr>\n",
       "    <tr>\n",
       "      <th>1</th>\n",
       "      <td>January 2022</td>\n",
       "      <td>MERCEDES-BENZ</td>\n",
       "      <td>GLK-CLASS</td>\n",
       "      <td>2014</td>\n",
       "      <td>WHITE</td>\n",
       "      <td>MULTIPURPOSE PASSENGER VEHICLE (MPV)</td>\n",
       "      <td>Passenger</td>\n",
       "      <td>Gasoline</td>\n",
       "      <td>1D</td>\n",
       "      <td>5,001 - 6,000</td>\n",
       "      <td>...</td>\n",
       "      <td>Standard</td>\n",
       "      <td>Individual Owner</td>\n",
       "      <td>King</td>\n",
       "      <td>WA</td>\n",
       "      <td>98178</td>\n",
       "      <td>Registration Renewal</td>\n",
       "      <td>Online</td>\n",
       "      <td>Bank Transfer</td>\n",
       "      <td>26101.0</td>\n",
       "      <td>1</td>\n",
       "    </tr>\n",
       "    <tr>\n",
       "      <th>2</th>\n",
       "      <td>January 2022</td>\n",
       "      <td>MERCEDES-BENZ</td>\n",
       "      <td>M-CLASS</td>\n",
       "      <td>2002</td>\n",
       "      <td>BLUE</td>\n",
       "      <td>MULTIPURPOSE PASSENGER VEHICLE (MPV)</td>\n",
       "      <td>Passenger</td>\n",
       "      <td>Gasoline</td>\n",
       "      <td>2E</td>\n",
       "      <td>6,001 - 7,000</td>\n",
       "      <td>...</td>\n",
       "      <td>Standard</td>\n",
       "      <td>Individual Owner</td>\n",
       "      <td>Snohomish</td>\n",
       "      <td>WA</td>\n",
       "      <td>98258</td>\n",
       "      <td>Registration Renewal</td>\n",
       "      <td>Online</td>\n",
       "      <td>Bank Transfer</td>\n",
       "      <td>52506.0</td>\n",
       "      <td>1</td>\n",
       "    </tr>\n",
       "    <tr>\n",
       "      <th>3</th>\n",
       "      <td>January 2022</td>\n",
       "      <td>MERCEDES-BENZ</td>\n",
       "      <td>R-CLASS</td>\n",
       "      <td>2008</td>\n",
       "      <td>WHITE</td>\n",
       "      <td>MULTIPURPOSE PASSENGER VEHICLE (MPV)</td>\n",
       "      <td>Passenger</td>\n",
       "      <td>Diesel</td>\n",
       "      <td>2E</td>\n",
       "      <td>6,001 - 7,000</td>\n",
       "      <td>...</td>\n",
       "      <td>Standard</td>\n",
       "      <td>Individual Owner</td>\n",
       "      <td>Okanogan</td>\n",
       "      <td>WA</td>\n",
       "      <td>98862</td>\n",
       "      <td>Registration Renewal</td>\n",
       "      <td>Online</td>\n",
       "      <td>Debit/Credit Card</td>\n",
       "      <td>970900.0</td>\n",
       "      <td>1</td>\n",
       "    </tr>\n",
       "    <tr>\n",
       "      <th>4</th>\n",
       "      <td>January 2022</td>\n",
       "      <td>MERCURY</td>\n",
       "      <td>MOUNTAINEER</td>\n",
       "      <td>1997</td>\n",
       "      <td>GREEN</td>\n",
       "      <td>MULTIPURPOSE PASSENGER VEHICLE (MPV)</td>\n",
       "      <td>Passenger</td>\n",
       "      <td>Gasoline</td>\n",
       "      <td>1D</td>\n",
       "      <td>5,001 - 6,000</td>\n",
       "      <td>...</td>\n",
       "      <td>Standard</td>\n",
       "      <td>Individual Owner</td>\n",
       "      <td>King</td>\n",
       "      <td>WA</td>\n",
       "      <td>98034</td>\n",
       "      <td>Registration Renewal</td>\n",
       "      <td>Online</td>\n",
       "      <td>Debit/Credit Card</td>\n",
       "      <td>22300.0</td>\n",
       "      <td>1</td>\n",
       "    </tr>\n",
       "  </tbody>\n",
       "</table>\n",
       "<p>5 rows × 23 columns</p>\n",
       "</div>"
      ],
      "text/plain": [
       "  Transaction Month and Year           Make        Model  Model Year  \\\n",
       "0               January 2022          HONDA      INSIGHT        2019   \n",
       "1               January 2022  MERCEDES-BENZ    GLK-CLASS        2014   \n",
       "2               January 2022  MERCEDES-BENZ      M-CLASS        2002   \n",
       "3               January 2022  MERCEDES-BENZ      R-CLASS        2008   \n",
       "4               January 2022        MERCURY  MOUNTAINEER        1997   \n",
       "\n",
       "  Vehicle Color                          Vehicle Type Vehicle Primary Use  \\\n",
       "0           NaN                         PASSENGER CAR           Passenger   \n",
       "1         WHITE  MULTIPURPOSE PASSENGER VEHICLE (MPV)           Passenger   \n",
       "2          BLUE  MULTIPURPOSE PASSENGER VEHICLE (MPV)           Passenger   \n",
       "3         WHITE  MULTIPURPOSE PASSENGER VEHICLE (MPV)           Passenger   \n",
       "4         GREEN  MULTIPURPOSE PASSENGER VEHICLE (MPV)           Passenger   \n",
       "\n",
       "  Fuel Type Primary Gross Vehicle Weight Rating Class  \\\n",
       "0          Gasoline                               NaN   \n",
       "1          Gasoline                                1D   \n",
       "2          Gasoline                                2E   \n",
       "3            Diesel                                2E   \n",
       "4          Gasoline                                1D   \n",
       "\n",
       "  Gross Vehicle Weight Rating Range (lbs)  ... Plate Configuration  \\\n",
       "0                                     NaN  ...            Standard   \n",
       "1                           5,001 - 6,000  ...            Standard   \n",
       "2                           6,001 - 7,000  ...            Standard   \n",
       "3                           6,001 - 7,000  ...            Standard   \n",
       "4                           5,001 - 6,000  ...            Standard   \n",
       "\n",
       "         Owner Type     County State Postal Code      Transaction Type  \\\n",
       "0  Individual Owner     Pierce    WA       98374  Registration Renewal   \n",
       "1  Individual Owner       King    WA       98178  Registration Renewal   \n",
       "2  Individual Owner  Snohomish    WA       98258  Registration Renewal   \n",
       "3  Individual Owner   Okanogan    WA       98862  Registration Renewal   \n",
       "4  Individual Owner       King    WA       98034  Registration Renewal   \n",
       "\n",
       "  Transaction Channel       Payment Type 2020 Census Tract Transaction Count  \n",
       "0              Online  Debit/Credit Card           73123.0                 1  \n",
       "1              Online      Bank Transfer           26101.0                 1  \n",
       "2              Online      Bank Transfer           52506.0                 1  \n",
       "3              Online  Debit/Credit Card          970900.0                 1  \n",
       "4              Online  Debit/Credit Card           22300.0                 1  \n",
       "\n",
       "[5 rows x 23 columns]"
      ]
     },
     "execution_count": 2,
     "metadata": {},
     "output_type": "execute_result"
    }
   ],
   "source": [
    "vehicle = pd.read_csv('/Users/isc-yeon/Documents/projectData/Vehicle_Registration_Transactions_by_Department_of_Licensing.csv',\n",
    "                      nrows=10_000,\n",
    "                      # usecols = [3,11],\n",
    "                      low_memory=False)\n",
    "\n",
    "vehicle.head(5)"
   ]
  },
  {
   "cell_type": "code",
   "execution_count": 3,
   "id": "0f2a38ca-036c-4719-b6e2-af8f4043a587",
   "metadata": {},
   "outputs": [
    {
     "name": "stdout",
     "output_type": "stream",
     "text": [
      "<class 'pandas.core.frame.DataFrame'>\n",
      "RangeIndex: 10000 entries, 0 to 9999\n",
      "Data columns (total 23 columns):\n",
      " #   Column                                   Non-Null Count  Dtype  \n",
      "---  ------                                   --------------  -----  \n",
      " 0   Transaction Month and Year               10000 non-null  object \n",
      " 1   Make                                     10000 non-null  object \n",
      " 2   Model                                    10000 non-null  object \n",
      " 3   Model Year                               10000 non-null  int64  \n",
      " 4   Vehicle Color                            6112 non-null   object \n",
      " 5   Vehicle Type                             10000 non-null  object \n",
      " 6   Vehicle Primary Use                      10000 non-null  object \n",
      " 7   Fuel Type Primary                        10000 non-null  object \n",
      " 8   Gross Vehicle Weight Rating Class        6984 non-null   object \n",
      " 9   Gross Vehicle Weight Rating Range (lbs)  6984 non-null   object \n",
      " 10  Fuel Type Secondary                      789 non-null    object \n",
      " 11  Electrification Level                    10000 non-null  object \n",
      " 12  Plate Background                         10000 non-null  object \n",
      " 13  Plate Configuration                      10000 non-null  object \n",
      " 14  Owner Type                               10000 non-null  object \n",
      " 15  County                                   10000 non-null  object \n",
      " 16  State                                    10000 non-null  object \n",
      " 17  Postal Code                              10000 non-null  int64  \n",
      " 18  Transaction Type                         10000 non-null  object \n",
      " 19  Transaction Channel                      10000 non-null  object \n",
      " 20  Payment Type                             10000 non-null  object \n",
      " 21  2020 Census Tract                        9975 non-null   float64\n",
      " 22  Transaction Count                        10000 non-null  int64  \n",
      "dtypes: float64(1), int64(3), object(19)\n",
      "memory usage: 1.8+ MB\n"
     ]
    }
   ],
   "source": [
    "vehicle.info()"
   ]
  },
  {
   "cell_type": "code",
   "execution_count": 4,
   "id": "e2b41c6e-1c3e-4ef7-a3cb-9a7f8c72704f",
   "metadata": {},
   "outputs": [
    {
     "data": {
      "text/html": [
       "<div>\n",
       "<style scoped>\n",
       "    .dataframe tbody tr th:only-of-type {\n",
       "        vertical-align: middle;\n",
       "    }\n",
       "\n",
       "    .dataframe tbody tr th {\n",
       "        vertical-align: top;\n",
       "    }\n",
       "\n",
       "    .dataframe thead th {\n",
       "        text-align: right;\n",
       "    }\n",
       "</style>\n",
       "<table border=\"1\" class=\"dataframe\">\n",
       "  <thead>\n",
       "    <tr style=\"text-align: right;\">\n",
       "      <th></th>\n",
       "      <th>Model Year</th>\n",
       "      <th>Electrification Level</th>\n",
       "    </tr>\n",
       "  </thead>\n",
       "  <tbody>\n",
       "    <tr>\n",
       "      <th>0</th>\n",
       "      <td>2019</td>\n",
       "      <td>Strong HEV (Hybrid Electric Vehicle)</td>\n",
       "    </tr>\n",
       "    <tr>\n",
       "      <th>1</th>\n",
       "      <td>2014</td>\n",
       "      <td>ICE (Internal Combustion Engine)</td>\n",
       "    </tr>\n",
       "    <tr>\n",
       "      <th>2</th>\n",
       "      <td>2002</td>\n",
       "      <td>ICE (Internal Combustion Engine)</td>\n",
       "    </tr>\n",
       "    <tr>\n",
       "      <th>3</th>\n",
       "      <td>2008</td>\n",
       "      <td>ICE (Internal Combustion Engine)</td>\n",
       "    </tr>\n",
       "    <tr>\n",
       "      <th>4</th>\n",
       "      <td>1997</td>\n",
       "      <td>ICE (Internal Combustion Engine)</td>\n",
       "    </tr>\n",
       "    <tr>\n",
       "      <th>...</th>\n",
       "      <td>...</td>\n",
       "      <td>...</td>\n",
       "    </tr>\n",
       "    <tr>\n",
       "      <th>18284632</th>\n",
       "      <td>2020</td>\n",
       "      <td>ICE (Internal Combustion Engine)</td>\n",
       "    </tr>\n",
       "    <tr>\n",
       "      <th>18284633</th>\n",
       "      <td>2005</td>\n",
       "      <td>ICE (Internal Combustion Engine)</td>\n",
       "    </tr>\n",
       "    <tr>\n",
       "      <th>18284634</th>\n",
       "      <td>2016</td>\n",
       "      <td>ICE (Internal Combustion Engine)</td>\n",
       "    </tr>\n",
       "    <tr>\n",
       "      <th>18284635</th>\n",
       "      <td>2011</td>\n",
       "      <td>ICE (Internal Combustion Engine)</td>\n",
       "    </tr>\n",
       "    <tr>\n",
       "      <th>18284636</th>\n",
       "      <td>2020</td>\n",
       "      <td>ICE (Internal Combustion Engine)</td>\n",
       "    </tr>\n",
       "  </tbody>\n",
       "</table>\n",
       "<p>18284637 rows × 2 columns</p>\n",
       "</div>"
      ],
      "text/plain": [
       "          Model Year                 Electrification Level\n",
       "0               2019  Strong HEV (Hybrid Electric Vehicle)\n",
       "1               2014      ICE (Internal Combustion Engine)\n",
       "2               2002      ICE (Internal Combustion Engine)\n",
       "3               2008      ICE (Internal Combustion Engine)\n",
       "4               1997      ICE (Internal Combustion Engine)\n",
       "...              ...                                   ...\n",
       "18284632        2020      ICE (Internal Combustion Engine)\n",
       "18284633        2005      ICE (Internal Combustion Engine)\n",
       "18284634        2016      ICE (Internal Combustion Engine)\n",
       "18284635        2011      ICE (Internal Combustion Engine)\n",
       "18284636        2020      ICE (Internal Combustion Engine)\n",
       "\n",
       "[18284637 rows x 2 columns]"
      ]
     },
     "execution_count": 4,
     "metadata": {},
     "output_type": "execute_result"
    }
   ],
   "source": [
    "vehicle = pd.read_csv('/Users/isc-yeon/Documents/projectData/Vehicle_Registration_Transactions_by_Department_of_Licensing.csv',\n",
    "                      # nrows=10_000,\n",
    "                      usecols = [3,11],\n",
    "                      low_memory=False)\n",
    "\n",
    "vehicle"
   ]
  },
  {
   "cell_type": "code",
   "execution_count": 5,
   "id": "c2834a0a-a895-4466-9243-426b25e4f3cd",
   "metadata": {},
   "outputs": [
    {
     "data": {
      "text/plain": [
       "RangeIndex(start=0, stop=18284637, step=1)"
      ]
     },
     "execution_count": 5,
     "metadata": {},
     "output_type": "execute_result"
    }
   ],
   "source": [
    "vehicle.index"
   ]
  },
  {
   "cell_type": "code",
   "execution_count": 6,
   "id": "d72eb431-716b-4211-b175-febfe72ed9b6",
   "metadata": {},
   "outputs": [
    {
     "name": "stdout",
     "output_type": "stream",
     "text": [
      "<class 'pandas.core.frame.DataFrame'>\n",
      "RangeIndex: 18284637 entries, 0 to 18284636\n",
      "Data columns (total 2 columns):\n",
      " #   Column                 Dtype \n",
      "---  ------                 ----- \n",
      " 0   Model Year             int64 \n",
      " 1   Electrification Level  object\n",
      "dtypes: int64(1), object(1)\n",
      "memory usage: 279.0+ MB\n"
     ]
    }
   ],
   "source": [
    "vehicle.info()"
   ]
  },
  {
   "cell_type": "code",
   "execution_count": 7,
   "id": "a0427876-ae41-44d0-92a8-9133ecf04048",
   "metadata": {},
   "outputs": [
    {
     "data": {
      "text/plain": [
       "ICE (Internal Combustion Engine)                 17400468\n",
       "Strong HEV (Hybrid Electric Vehicle)               383784\n",
       "HEV (Hybrid Electric Vehicle) - Level Unknown      245297\n",
       "BEV (Battery Electric Vehicle)                     177228\n",
       "PHEV (Plug-in Hybrid Electric Vehicle)              61673\n",
       "Mild HEV (Hybrid Electric Vehicle)                  16186\n",
       "Name: Electrification Level, dtype: int64"
      ]
     },
     "execution_count": 7,
     "metadata": {},
     "output_type": "execute_result"
    }
   ],
   "source": [
    "vehicle.loc[:, 'Electrification Level'].value_counts()"
   ]
  },
  {
   "cell_type": "code",
   "execution_count": 8,
   "id": "6d40d687-eab9-4a40-ba2f-9e4a411cb44c",
   "metadata": {},
   "outputs": [
    {
     "data": {
      "text/plain": [
       "6"
      ]
     },
     "execution_count": 8,
     "metadata": {},
     "output_type": "execute_result"
    }
   ],
   "source": [
    "vehicle.loc[:, 'Electrification Level'].nunique()"
   ]
  },
  {
   "cell_type": "code",
   "execution_count": 9,
   "id": "c7739886-27f6-4781-9408-f5e732581bd1",
   "metadata": {},
   "outputs": [
    {
     "data": {
      "text/plain": [
       "1"
      ]
     },
     "execution_count": 9,
     "metadata": {},
     "output_type": "execute_result"
    }
   ],
   "source": [
    "vehicle.loc[:, 'Electrification Level'].isna().sum()"
   ]
  },
  {
   "cell_type": "code",
   "execution_count": 10,
   "id": "78f33345-bf31-44a4-afdd-6438a1769645",
   "metadata": {},
   "outputs": [],
   "source": [
    "vehicle = vehicle.dropna()"
   ]
  },
  {
   "cell_type": "code",
   "execution_count": 11,
   "id": "5558fb6b-a4ca-4d9a-83de-9a93a2362733",
   "metadata": {},
   "outputs": [
    {
     "data": {
      "text/html": [
       "<div>\n",
       "<style scoped>\n",
       "    .dataframe tbody tr th:only-of-type {\n",
       "        vertical-align: middle;\n",
       "    }\n",
       "\n",
       "    .dataframe tbody tr th {\n",
       "        vertical-align: top;\n",
       "    }\n",
       "\n",
       "    .dataframe thead th {\n",
       "        text-align: right;\n",
       "    }\n",
       "</style>\n",
       "<table border=\"1\" class=\"dataframe\">\n",
       "  <thead>\n",
       "    <tr style=\"text-align: right;\">\n",
       "      <th></th>\n",
       "      <th>Model Year</th>\n",
       "      <th>Electrification Level</th>\n",
       "    </tr>\n",
       "  </thead>\n",
       "  <tbody>\n",
       "    <tr>\n",
       "      <th>0</th>\n",
       "      <td>2019</td>\n",
       "      <td>Strong HEV (Hybrid Electric Vehicle)</td>\n",
       "    </tr>\n",
       "    <tr>\n",
       "      <th>1</th>\n",
       "      <td>2014</td>\n",
       "      <td>ICE (Internal Combustion Engine)</td>\n",
       "    </tr>\n",
       "    <tr>\n",
       "      <th>2</th>\n",
       "      <td>2002</td>\n",
       "      <td>ICE (Internal Combustion Engine)</td>\n",
       "    </tr>\n",
       "    <tr>\n",
       "      <th>3</th>\n",
       "      <td>2008</td>\n",
       "      <td>ICE (Internal Combustion Engine)</td>\n",
       "    </tr>\n",
       "    <tr>\n",
       "      <th>4</th>\n",
       "      <td>1997</td>\n",
       "      <td>ICE (Internal Combustion Engine)</td>\n",
       "    </tr>\n",
       "    <tr>\n",
       "      <th>...</th>\n",
       "      <td>...</td>\n",
       "      <td>...</td>\n",
       "    </tr>\n",
       "    <tr>\n",
       "      <th>18284632</th>\n",
       "      <td>2020</td>\n",
       "      <td>ICE (Internal Combustion Engine)</td>\n",
       "    </tr>\n",
       "    <tr>\n",
       "      <th>18284633</th>\n",
       "      <td>2005</td>\n",
       "      <td>ICE (Internal Combustion Engine)</td>\n",
       "    </tr>\n",
       "    <tr>\n",
       "      <th>18284634</th>\n",
       "      <td>2016</td>\n",
       "      <td>ICE (Internal Combustion Engine)</td>\n",
       "    </tr>\n",
       "    <tr>\n",
       "      <th>18284635</th>\n",
       "      <td>2011</td>\n",
       "      <td>ICE (Internal Combustion Engine)</td>\n",
       "    </tr>\n",
       "    <tr>\n",
       "      <th>18284636</th>\n",
       "      <td>2020</td>\n",
       "      <td>ICE (Internal Combustion Engine)</td>\n",
       "    </tr>\n",
       "  </tbody>\n",
       "</table>\n",
       "<p>18284636 rows × 2 columns</p>\n",
       "</div>"
      ],
      "text/plain": [
       "          Model Year                 Electrification Level\n",
       "0               2019  Strong HEV (Hybrid Electric Vehicle)\n",
       "1               2014      ICE (Internal Combustion Engine)\n",
       "2               2002      ICE (Internal Combustion Engine)\n",
       "3               2008      ICE (Internal Combustion Engine)\n",
       "4               1997      ICE (Internal Combustion Engine)\n",
       "...              ...                                   ...\n",
       "18284632        2020      ICE (Internal Combustion Engine)\n",
       "18284633        2005      ICE (Internal Combustion Engine)\n",
       "18284634        2016      ICE (Internal Combustion Engine)\n",
       "18284635        2011      ICE (Internal Combustion Engine)\n",
       "18284636        2020      ICE (Internal Combustion Engine)\n",
       "\n",
       "[18284636 rows x 2 columns]"
      ]
     },
     "execution_count": 11,
     "metadata": {},
     "output_type": "execute_result"
    }
   ],
   "source": [
    "vehicle"
   ]
  },
  {
   "cell_type": "code",
   "execution_count": 12,
   "id": "2353623c-e3b6-4a47-9b77-9515632f7b44",
   "metadata": {},
   "outputs": [
    {
     "data": {
      "text/html": [
       "<div>\n",
       "<style scoped>\n",
       "    .dataframe tbody tr th:only-of-type {\n",
       "        vertical-align: middle;\n",
       "    }\n",
       "\n",
       "    .dataframe tbody tr th {\n",
       "        vertical-align: top;\n",
       "    }\n",
       "\n",
       "    .dataframe thead th {\n",
       "        text-align: right;\n",
       "    }\n",
       "</style>\n",
       "<table border=\"1\" class=\"dataframe\">\n",
       "  <thead>\n",
       "    <tr style=\"text-align: right;\">\n",
       "      <th></th>\n",
       "      <th></th>\n",
       "      <th>size_Electrification_Level</th>\n",
       "    </tr>\n",
       "    <tr>\n",
       "      <th>Model Year</th>\n",
       "      <th>Electrification Level</th>\n",
       "      <th></th>\n",
       "    </tr>\n",
       "  </thead>\n",
       "  <tbody>\n",
       "    <tr>\n",
       "      <th>1966</th>\n",
       "      <th>ICE (Internal Combustion Engine)</th>\n",
       "      <td>2</td>\n",
       "    </tr>\n",
       "    <tr>\n",
       "      <th>1979</th>\n",
       "      <th>ICE (Internal Combustion Engine)</th>\n",
       "      <td>10</td>\n",
       "    </tr>\n",
       "    <tr>\n",
       "      <th>1980</th>\n",
       "      <th>ICE (Internal Combustion Engine)</th>\n",
       "      <td>50</td>\n",
       "    </tr>\n",
       "    <tr>\n",
       "      <th rowspan=\"2\" valign=\"top\">1981</th>\n",
       "      <th>BEV (Battery Electric Vehicle)</th>\n",
       "      <td>2</td>\n",
       "    </tr>\n",
       "    <tr>\n",
       "      <th>ICE (Internal Combustion Engine)</th>\n",
       "      <td>13198</td>\n",
       "    </tr>\n",
       "    <tr>\n",
       "      <th>...</th>\n",
       "      <th>...</th>\n",
       "      <td>...</td>\n",
       "    </tr>\n",
       "    <tr>\n",
       "      <th rowspan=\"5\" valign=\"top\">2023</th>\n",
       "      <th>BEV (Battery Electric Vehicle)</th>\n",
       "      <td>178</td>\n",
       "    </tr>\n",
       "    <tr>\n",
       "      <th>HEV (Hybrid Electric Vehicle) - Level Unknown</th>\n",
       "      <td>923</td>\n",
       "    </tr>\n",
       "    <tr>\n",
       "      <th>ICE (Internal Combustion Engine)</th>\n",
       "      <td>6125</td>\n",
       "    </tr>\n",
       "    <tr>\n",
       "      <th>Mild HEV (Hybrid Electric Vehicle)</th>\n",
       "      <td>106</td>\n",
       "    </tr>\n",
       "    <tr>\n",
       "      <th>PHEV (Plug-in Hybrid Electric Vehicle)</th>\n",
       "      <td>72</td>\n",
       "    </tr>\n",
       "  </tbody>\n",
       "</table>\n",
       "<p>154 rows × 1 columns</p>\n",
       "</div>"
      ],
      "text/plain": [
       "                                                          size_Electrification_Level\n",
       "Model Year Electrification Level                                                    \n",
       "1966       ICE (Internal Combustion Engine)                                        2\n",
       "1979       ICE (Internal Combustion Engine)                                       10\n",
       "1980       ICE (Internal Combustion Engine)                                       50\n",
       "1981       BEV (Battery Electric Vehicle)                                          2\n",
       "           ICE (Internal Combustion Engine)                                    13198\n",
       "...                                                                              ...\n",
       "2023       BEV (Battery Electric Vehicle)                                        178\n",
       "           HEV (Hybrid Electric Vehicle) - Level Unknown                         923\n",
       "           ICE (Internal Combustion Engine)                                     6125\n",
       "           Mild HEV (Hybrid Electric Vehicle)                                    106\n",
       "           PHEV (Plug-in Hybrid Electric Vehicle)                                 72\n",
       "\n",
       "[154 rows x 1 columns]"
      ]
     },
     "execution_count": 12,
     "metadata": {},
     "output_type": "execute_result"
    }
   ],
   "source": [
    "df = (\n",
    "    vehicle\n",
    "    .groupby(['Model Year', 'Electrification Level'])\n",
    "    .agg(size_Electrification_Level=pd.NamedAgg(column='Electrification Level', aggfunc='size'),\n",
    "        )\n",
    ")\n",
    "df"
   ]
  },
  {
   "cell_type": "code",
   "execution_count": 13,
   "id": "a7f95bb2-d44d-4017-b7ca-6e86a17273ef",
   "metadata": {},
   "outputs": [],
   "source": [
    "df = df.reset_index()"
   ]
  },
  {
   "cell_type": "code",
   "execution_count": 14,
   "id": "f612162e-b869-4e01-a2cf-9b86823e909f",
   "metadata": {},
   "outputs": [
    {
     "data": {
      "text/html": [
       "<div>\n",
       "<style scoped>\n",
       "    .dataframe tbody tr th:only-of-type {\n",
       "        vertical-align: middle;\n",
       "    }\n",
       "\n",
       "    .dataframe tbody tr th {\n",
       "        vertical-align: top;\n",
       "    }\n",
       "\n",
       "    .dataframe thead th {\n",
       "        text-align: right;\n",
       "    }\n",
       "</style>\n",
       "<table border=\"1\" class=\"dataframe\">\n",
       "  <thead>\n",
       "    <tr style=\"text-align: right;\">\n",
       "      <th></th>\n",
       "      <th>Model Year</th>\n",
       "      <th>Electrification Level</th>\n",
       "      <th>size_Electrification_Level</th>\n",
       "    </tr>\n",
       "  </thead>\n",
       "  <tbody>\n",
       "    <tr>\n",
       "      <th>0</th>\n",
       "      <td>1966</td>\n",
       "      <td>ICE (Internal Combustion Engine)</td>\n",
       "      <td>2</td>\n",
       "    </tr>\n",
       "    <tr>\n",
       "      <th>1</th>\n",
       "      <td>1979</td>\n",
       "      <td>ICE (Internal Combustion Engine)</td>\n",
       "      <td>10</td>\n",
       "    </tr>\n",
       "    <tr>\n",
       "      <th>2</th>\n",
       "      <td>1980</td>\n",
       "      <td>ICE (Internal Combustion Engine)</td>\n",
       "      <td>50</td>\n",
       "    </tr>\n",
       "    <tr>\n",
       "      <th>3</th>\n",
       "      <td>1981</td>\n",
       "      <td>BEV (Battery Electric Vehicle)</td>\n",
       "      <td>2</td>\n",
       "    </tr>\n",
       "    <tr>\n",
       "      <th>4</th>\n",
       "      <td>1981</td>\n",
       "      <td>ICE (Internal Combustion Engine)</td>\n",
       "      <td>13198</td>\n",
       "    </tr>\n",
       "    <tr>\n",
       "      <th>...</th>\n",
       "      <td>...</td>\n",
       "      <td>...</td>\n",
       "      <td>...</td>\n",
       "    </tr>\n",
       "    <tr>\n",
       "      <th>149</th>\n",
       "      <td>2023</td>\n",
       "      <td>BEV (Battery Electric Vehicle)</td>\n",
       "      <td>178</td>\n",
       "    </tr>\n",
       "    <tr>\n",
       "      <th>150</th>\n",
       "      <td>2023</td>\n",
       "      <td>HEV (Hybrid Electric Vehicle) - Level Unknown</td>\n",
       "      <td>923</td>\n",
       "    </tr>\n",
       "    <tr>\n",
       "      <th>151</th>\n",
       "      <td>2023</td>\n",
       "      <td>ICE (Internal Combustion Engine)</td>\n",
       "      <td>6125</td>\n",
       "    </tr>\n",
       "    <tr>\n",
       "      <th>152</th>\n",
       "      <td>2023</td>\n",
       "      <td>Mild HEV (Hybrid Electric Vehicle)</td>\n",
       "      <td>106</td>\n",
       "    </tr>\n",
       "    <tr>\n",
       "      <th>153</th>\n",
       "      <td>2023</td>\n",
       "      <td>PHEV (Plug-in Hybrid Electric Vehicle)</td>\n",
       "      <td>72</td>\n",
       "    </tr>\n",
       "  </tbody>\n",
       "</table>\n",
       "<p>154 rows × 3 columns</p>\n",
       "</div>"
      ],
      "text/plain": [
       "     Model Year                          Electrification Level  \\\n",
       "0          1966               ICE (Internal Combustion Engine)   \n",
       "1          1979               ICE (Internal Combustion Engine)   \n",
       "2          1980               ICE (Internal Combustion Engine)   \n",
       "3          1981                 BEV (Battery Electric Vehicle)   \n",
       "4          1981               ICE (Internal Combustion Engine)   \n",
       "..          ...                                            ...   \n",
       "149        2023                 BEV (Battery Electric Vehicle)   \n",
       "150        2023  HEV (Hybrid Electric Vehicle) - Level Unknown   \n",
       "151        2023               ICE (Internal Combustion Engine)   \n",
       "152        2023             Mild HEV (Hybrid Electric Vehicle)   \n",
       "153        2023         PHEV (Plug-in Hybrid Electric Vehicle)   \n",
       "\n",
       "     size_Electrification_Level  \n",
       "0                             2  \n",
       "1                            10  \n",
       "2                            50  \n",
       "3                             2  \n",
       "4                         13198  \n",
       "..                          ...  \n",
       "149                         178  \n",
       "150                         923  \n",
       "151                        6125  \n",
       "152                         106  \n",
       "153                          72  \n",
       "\n",
       "[154 rows x 3 columns]"
      ]
     },
     "execution_count": 14,
     "metadata": {},
     "output_type": "execute_result"
    }
   ],
   "source": [
    "df"
   ]
  },
  {
   "cell_type": "code",
   "execution_count": 15,
   "id": "9cd43c00-18bf-42d0-a1ac-58b976ddd7b8",
   "metadata": {},
   "outputs": [
    {
     "data": {
      "text/plain": [
       "0          2\n",
       "1         10\n",
       "2         50\n",
       "3          2\n",
       "4      13198\n",
       "       ...  \n",
       "149      178\n",
       "150      923\n",
       "151     6125\n",
       "152      106\n",
       "153       72\n",
       "Name: size_Electrification_Level, Length: 154, dtype: int64"
      ]
     },
     "execution_count": 15,
     "metadata": {},
     "output_type": "execute_result"
    }
   ],
   "source": [
    "df.loc[:, 'size_Electrification_Level']"
   ]
  },
  {
   "cell_type": "code",
   "execution_count": 16,
   "id": "fe4ecc0d-0b22-4468-b244-aece2b99e7a6",
   "metadata": {},
   "outputs": [
    {
     "data": {
      "text/plain": [
       "0      1966\n",
       "1      1979\n",
       "2      1980\n",
       "3      1981\n",
       "4      1981\n",
       "       ... \n",
       "149    2023\n",
       "150    2023\n",
       "151    2023\n",
       "152    2023\n",
       "153    2023\n",
       "Name: Model Year, Length: 154, dtype: int64"
      ]
     },
     "execution_count": 16,
     "metadata": {},
     "output_type": "execute_result"
    }
   ],
   "source": [
    "df.loc[:, 'Model Year']"
   ]
  },
  {
   "cell_type": "code",
   "execution_count": 17,
   "id": "c3a631d8-853a-44f4-9ad4-825ed4c9107b",
   "metadata": {},
   "outputs": [
    {
     "data": {
      "text/plain": [
       "Int64Index([  3,  10,  13,  15,  17,  20,  22,  24,  26,  28,\n",
       "            ...\n",
       "            142, 143, 144, 146, 147, 148, 149, 150, 152, 153],\n",
       "           dtype='int64', length=108)"
      ]
     },
     "execution_count": 17,
     "metadata": {},
     "output_type": "execute_result"
    }
   ],
   "source": [
    "a = df[df['Electrification Level'] != 'ICE (Internal Combustion Engine)'].index\n",
    "a"
   ]
  },
  {
   "cell_type": "code",
   "execution_count": 18,
   "id": "e53eac3d-d4db-4080-803c-f6c606595c7e",
   "metadata": {},
   "outputs": [],
   "source": [
    "df.drop(a,axis='index',inplace=True)"
   ]
  },
  {
   "cell_type": "code",
   "execution_count": 19,
   "id": "3dbc08bf-219e-4d69-9bd8-d7af992eb94c",
   "metadata": {
    "scrolled": true,
    "tags": []
   },
   "outputs": [
    {
     "data": {
      "text/html": [
       "<div>\n",
       "<style scoped>\n",
       "    .dataframe tbody tr th:only-of-type {\n",
       "        vertical-align: middle;\n",
       "    }\n",
       "\n",
       "    .dataframe tbody tr th {\n",
       "        vertical-align: top;\n",
       "    }\n",
       "\n",
       "    .dataframe thead th {\n",
       "        text-align: right;\n",
       "    }\n",
       "</style>\n",
       "<table border=\"1\" class=\"dataframe\">\n",
       "  <thead>\n",
       "    <tr style=\"text-align: right;\">\n",
       "      <th></th>\n",
       "      <th>Model Year</th>\n",
       "      <th>Electrification Level</th>\n",
       "      <th>size_Electrification_Level</th>\n",
       "    </tr>\n",
       "  </thead>\n",
       "  <tbody>\n",
       "    <tr>\n",
       "      <th>0</th>\n",
       "      <td>1966</td>\n",
       "      <td>ICE (Internal Combustion Engine)</td>\n",
       "      <td>2</td>\n",
       "    </tr>\n",
       "    <tr>\n",
       "      <th>1</th>\n",
       "      <td>1979</td>\n",
       "      <td>ICE (Internal Combustion Engine)</td>\n",
       "      <td>10</td>\n",
       "    </tr>\n",
       "    <tr>\n",
       "      <th>2</th>\n",
       "      <td>1980</td>\n",
       "      <td>ICE (Internal Combustion Engine)</td>\n",
       "      <td>50</td>\n",
       "    </tr>\n",
       "    <tr>\n",
       "      <th>4</th>\n",
       "      <td>1981</td>\n",
       "      <td>ICE (Internal Combustion Engine)</td>\n",
       "      <td>13198</td>\n",
       "    </tr>\n",
       "    <tr>\n",
       "      <th>5</th>\n",
       "      <td>1982</td>\n",
       "      <td>ICE (Internal Combustion Engine)</td>\n",
       "      <td>13753</td>\n",
       "    </tr>\n",
       "    <tr>\n",
       "      <th>6</th>\n",
       "      <td>1983</td>\n",
       "      <td>ICE (Internal Combustion Engine)</td>\n",
       "      <td>17063</td>\n",
       "    </tr>\n",
       "    <tr>\n",
       "      <th>7</th>\n",
       "      <td>1984</td>\n",
       "      <td>ICE (Internal Combustion Engine)</td>\n",
       "      <td>25372</td>\n",
       "    </tr>\n",
       "    <tr>\n",
       "      <th>8</th>\n",
       "      <td>1985</td>\n",
       "      <td>ICE (Internal Combustion Engine)</td>\n",
       "      <td>32180</td>\n",
       "    </tr>\n",
       "    <tr>\n",
       "      <th>9</th>\n",
       "      <td>1986</td>\n",
       "      <td>ICE (Internal Combustion Engine)</td>\n",
       "      <td>41733</td>\n",
       "    </tr>\n",
       "    <tr>\n",
       "      <th>11</th>\n",
       "      <td>1987</td>\n",
       "      <td>ICE (Internal Combustion Engine)</td>\n",
       "      <td>41560</td>\n",
       "    </tr>\n",
       "    <tr>\n",
       "      <th>12</th>\n",
       "      <td>1988</td>\n",
       "      <td>ICE (Internal Combustion Engine)</td>\n",
       "      <td>49740</td>\n",
       "    </tr>\n",
       "    <tr>\n",
       "      <th>14</th>\n",
       "      <td>1989</td>\n",
       "      <td>ICE (Internal Combustion Engine)</td>\n",
       "      <td>67684</td>\n",
       "    </tr>\n",
       "    <tr>\n",
       "      <th>16</th>\n",
       "      <td>1990</td>\n",
       "      <td>ICE (Internal Combustion Engine)</td>\n",
       "      <td>81705</td>\n",
       "    </tr>\n",
       "    <tr>\n",
       "      <th>18</th>\n",
       "      <td>1991</td>\n",
       "      <td>ICE (Internal Combustion Engine)</td>\n",
       "      <td>94656</td>\n",
       "    </tr>\n",
       "    <tr>\n",
       "      <th>19</th>\n",
       "      <td>1992</td>\n",
       "      <td>ICE (Internal Combustion Engine)</td>\n",
       "      <td>101596</td>\n",
       "    </tr>\n",
       "    <tr>\n",
       "      <th>21</th>\n",
       "      <td>1993</td>\n",
       "      <td>ICE (Internal Combustion Engine)</td>\n",
       "      <td>129288</td>\n",
       "    </tr>\n",
       "    <tr>\n",
       "      <th>23</th>\n",
       "      <td>1994</td>\n",
       "      <td>ICE (Internal Combustion Engine)</td>\n",
       "      <td>162638</td>\n",
       "    </tr>\n",
       "    <tr>\n",
       "      <th>25</th>\n",
       "      <td>1995</td>\n",
       "      <td>ICE (Internal Combustion Engine)</td>\n",
       "      <td>187405</td>\n",
       "    </tr>\n",
       "    <tr>\n",
       "      <th>27</th>\n",
       "      <td>1996</td>\n",
       "      <td>ICE (Internal Combustion Engine)</td>\n",
       "      <td>198045</td>\n",
       "    </tr>\n",
       "    <tr>\n",
       "      <th>29</th>\n",
       "      <td>1997</td>\n",
       "      <td>ICE (Internal Combustion Engine)</td>\n",
       "      <td>280138</td>\n",
       "    </tr>\n",
       "    <tr>\n",
       "      <th>32</th>\n",
       "      <td>1998</td>\n",
       "      <td>ICE (Internal Combustion Engine)</td>\n",
       "      <td>305856</td>\n",
       "    </tr>\n",
       "    <tr>\n",
       "      <th>34</th>\n",
       "      <td>1999</td>\n",
       "      <td>ICE (Internal Combustion Engine)</td>\n",
       "      <td>379857</td>\n",
       "    </tr>\n",
       "    <tr>\n",
       "      <th>37</th>\n",
       "      <td>2000</td>\n",
       "      <td>ICE (Internal Combustion Engine)</td>\n",
       "      <td>459300</td>\n",
       "    </tr>\n",
       "    <tr>\n",
       "      <th>40</th>\n",
       "      <td>2001</td>\n",
       "      <td>ICE (Internal Combustion Engine)</td>\n",
       "      <td>496780</td>\n",
       "    </tr>\n",
       "    <tr>\n",
       "      <th>43</th>\n",
       "      <td>2002</td>\n",
       "      <td>ICE (Internal Combustion Engine)</td>\n",
       "      <td>547484</td>\n",
       "    </tr>\n",
       "    <tr>\n",
       "      <th>46</th>\n",
       "      <td>2003</td>\n",
       "      <td>ICE (Internal Combustion Engine)</td>\n",
       "      <td>613727</td>\n",
       "    </tr>\n",
       "    <tr>\n",
       "      <th>50</th>\n",
       "      <td>2004</td>\n",
       "      <td>ICE (Internal Combustion Engine)</td>\n",
       "      <td>665647</td>\n",
       "    </tr>\n",
       "    <tr>\n",
       "      <th>54</th>\n",
       "      <td>2005</td>\n",
       "      <td>ICE (Internal Combustion Engine)</td>\n",
       "      <td>727973</td>\n",
       "    </tr>\n",
       "    <tr>\n",
       "      <th>58</th>\n",
       "      <td>2006</td>\n",
       "      <td>ICE (Internal Combustion Engine)</td>\n",
       "      <td>759529</td>\n",
       "    </tr>\n",
       "    <tr>\n",
       "      <th>63</th>\n",
       "      <td>2007</td>\n",
       "      <td>ICE (Internal Combustion Engine)</td>\n",
       "      <td>775378</td>\n",
       "    </tr>\n",
       "    <tr>\n",
       "      <th>68</th>\n",
       "      <td>2008</td>\n",
       "      <td>ICE (Internal Combustion Engine)</td>\n",
       "      <td>713473</td>\n",
       "    </tr>\n",
       "    <tr>\n",
       "      <th>73</th>\n",
       "      <td>2009</td>\n",
       "      <td>ICE (Internal Combustion Engine)</td>\n",
       "      <td>469350</td>\n",
       "    </tr>\n",
       "    <tr>\n",
       "      <th>78</th>\n",
       "      <td>2010</td>\n",
       "      <td>ICE (Internal Combustion Engine)</td>\n",
       "      <td>536543</td>\n",
       "    </tr>\n",
       "    <tr>\n",
       "      <th>83</th>\n",
       "      <td>2011</td>\n",
       "      <td>ICE (Internal Combustion Engine)</td>\n",
       "      <td>610355</td>\n",
       "    </tr>\n",
       "    <tr>\n",
       "      <th>88</th>\n",
       "      <td>2012</td>\n",
       "      <td>ICE (Internal Combustion Engine)</td>\n",
       "      <td>694421</td>\n",
       "    </tr>\n",
       "    <tr>\n",
       "      <th>94</th>\n",
       "      <td>2013</td>\n",
       "      <td>ICE (Internal Combustion Engine)</td>\n",
       "      <td>806809</td>\n",
       "    </tr>\n",
       "    <tr>\n",
       "      <th>100</th>\n",
       "      <td>2014</td>\n",
       "      <td>ICE (Internal Combustion Engine)</td>\n",
       "      <td>827543</td>\n",
       "    </tr>\n",
       "    <tr>\n",
       "      <th>106</th>\n",
       "      <td>2015</td>\n",
       "      <td>ICE (Internal Combustion Engine)</td>\n",
       "      <td>937473</td>\n",
       "    </tr>\n",
       "    <tr>\n",
       "      <th>112</th>\n",
       "      <td>2016</td>\n",
       "      <td>ICE (Internal Combustion Engine)</td>\n",
       "      <td>909237</td>\n",
       "    </tr>\n",
       "    <tr>\n",
       "      <th>118</th>\n",
       "      <td>2017</td>\n",
       "      <td>ICE (Internal Combustion Engine)</td>\n",
       "      <td>916210</td>\n",
       "    </tr>\n",
       "    <tr>\n",
       "      <th>123</th>\n",
       "      <td>2018</td>\n",
       "      <td>ICE (Internal Combustion Engine)</td>\n",
       "      <td>854752</td>\n",
       "    </tr>\n",
       "    <tr>\n",
       "      <th>128</th>\n",
       "      <td>2019</td>\n",
       "      <td>ICE (Internal Combustion Engine)</td>\n",
       "      <td>766971</td>\n",
       "    </tr>\n",
       "    <tr>\n",
       "      <th>133</th>\n",
       "      <td>2020</td>\n",
       "      <td>ICE (Internal Combustion Engine)</td>\n",
       "      <td>548027</td>\n",
       "    </tr>\n",
       "    <tr>\n",
       "      <th>139</th>\n",
       "      <td>2021</td>\n",
       "      <td>ICE (Internal Combustion Engine)</td>\n",
       "      <td>375383</td>\n",
       "    </tr>\n",
       "    <tr>\n",
       "      <th>145</th>\n",
       "      <td>2022</td>\n",
       "      <td>ICE (Internal Combustion Engine)</td>\n",
       "      <td>158449</td>\n",
       "    </tr>\n",
       "    <tr>\n",
       "      <th>151</th>\n",
       "      <td>2023</td>\n",
       "      <td>ICE (Internal Combustion Engine)</td>\n",
       "      <td>6125</td>\n",
       "    </tr>\n",
       "  </tbody>\n",
       "</table>\n",
       "</div>"
      ],
      "text/plain": [
       "     Model Year             Electrification Level  size_Electrification_Level\n",
       "0          1966  ICE (Internal Combustion Engine)                           2\n",
       "1          1979  ICE (Internal Combustion Engine)                          10\n",
       "2          1980  ICE (Internal Combustion Engine)                          50\n",
       "4          1981  ICE (Internal Combustion Engine)                       13198\n",
       "5          1982  ICE (Internal Combustion Engine)                       13753\n",
       "6          1983  ICE (Internal Combustion Engine)                       17063\n",
       "7          1984  ICE (Internal Combustion Engine)                       25372\n",
       "8          1985  ICE (Internal Combustion Engine)                       32180\n",
       "9          1986  ICE (Internal Combustion Engine)                       41733\n",
       "11         1987  ICE (Internal Combustion Engine)                       41560\n",
       "12         1988  ICE (Internal Combustion Engine)                       49740\n",
       "14         1989  ICE (Internal Combustion Engine)                       67684\n",
       "16         1990  ICE (Internal Combustion Engine)                       81705\n",
       "18         1991  ICE (Internal Combustion Engine)                       94656\n",
       "19         1992  ICE (Internal Combustion Engine)                      101596\n",
       "21         1993  ICE (Internal Combustion Engine)                      129288\n",
       "23         1994  ICE (Internal Combustion Engine)                      162638\n",
       "25         1995  ICE (Internal Combustion Engine)                      187405\n",
       "27         1996  ICE (Internal Combustion Engine)                      198045\n",
       "29         1997  ICE (Internal Combustion Engine)                      280138\n",
       "32         1998  ICE (Internal Combustion Engine)                      305856\n",
       "34         1999  ICE (Internal Combustion Engine)                      379857\n",
       "37         2000  ICE (Internal Combustion Engine)                      459300\n",
       "40         2001  ICE (Internal Combustion Engine)                      496780\n",
       "43         2002  ICE (Internal Combustion Engine)                      547484\n",
       "46         2003  ICE (Internal Combustion Engine)                      613727\n",
       "50         2004  ICE (Internal Combustion Engine)                      665647\n",
       "54         2005  ICE (Internal Combustion Engine)                      727973\n",
       "58         2006  ICE (Internal Combustion Engine)                      759529\n",
       "63         2007  ICE (Internal Combustion Engine)                      775378\n",
       "68         2008  ICE (Internal Combustion Engine)                      713473\n",
       "73         2009  ICE (Internal Combustion Engine)                      469350\n",
       "78         2010  ICE (Internal Combustion Engine)                      536543\n",
       "83         2011  ICE (Internal Combustion Engine)                      610355\n",
       "88         2012  ICE (Internal Combustion Engine)                      694421\n",
       "94         2013  ICE (Internal Combustion Engine)                      806809\n",
       "100        2014  ICE (Internal Combustion Engine)                      827543\n",
       "106        2015  ICE (Internal Combustion Engine)                      937473\n",
       "112        2016  ICE (Internal Combustion Engine)                      909237\n",
       "118        2017  ICE (Internal Combustion Engine)                      916210\n",
       "123        2018  ICE (Internal Combustion Engine)                      854752\n",
       "128        2019  ICE (Internal Combustion Engine)                      766971\n",
       "133        2020  ICE (Internal Combustion Engine)                      548027\n",
       "139        2021  ICE (Internal Combustion Engine)                      375383\n",
       "145        2022  ICE (Internal Combustion Engine)                      158449\n",
       "151        2023  ICE (Internal Combustion Engine)                        6125"
      ]
     },
     "execution_count": 19,
     "metadata": {},
     "output_type": "execute_result"
    }
   ],
   "source": [
    "df"
   ]
  },
  {
   "cell_type": "code",
   "execution_count": 20,
   "id": "44922291-0896-4fd6-be98-056b74cda7a0",
   "metadata": {},
   "outputs": [
    {
     "name": "stdout",
     "output_type": "stream",
     "text": [
      "<class 'pandas.core.frame.DataFrame'>\n",
      "Int64Index: 46 entries, 0 to 151\n",
      "Data columns (total 3 columns):\n",
      " #   Column                      Non-Null Count  Dtype \n",
      "---  ------                      --------------  ----- \n",
      " 0   Model Year                  46 non-null     int64 \n",
      " 1   Electrification Level       46 non-null     object\n",
      " 2   size_Electrification_Level  46 non-null     int64 \n",
      "dtypes: int64(2), object(1)\n",
      "memory usage: 1.4+ KB\n"
     ]
    }
   ],
   "source": [
    "df.info()"
   ]
  },
  {
   "cell_type": "code",
   "execution_count": 21,
   "id": "aef3acd8-81f5-4f97-bfe4-fb569cdc8859",
   "metadata": {},
   "outputs": [
    {
     "data": {
      "text/plain": [
       "<AxesSubplot:>"
      ]
     },
     "execution_count": 21,
     "metadata": {},
     "output_type": "execute_result"
    },
    {
     "data": {
      "image/png": "[encoded data removed]",
      "text/plain": [
       "<Figure size 432x288 with 1 Axes>"
      ]
     },
     "metadata": {
      "needs_background": "light"
     },
     "output_type": "display_data"
    }
   ],
   "source": [
    "df.loc[:, 'size_Electrification_Level'].plot()"
   ]
  },
  {
   "cell_type": "code",
   "execution_count": 22,
   "id": "55ed0e57-f605-4178-b9ff-d892b8ad349b",
   "metadata": {},
   "outputs": [
    {
     "data": {
      "text/plain": [
       "<AxesSubplot:>"
      ]
     },
     "execution_count": 22,
     "metadata": {},
     "output_type": "execute_result"
    },
    {
     "data": {
      "image/png": "[encoded data removed]",
      "text/plain": [
       "<Figure size 432x288 with 1 Axes>"
      ]
     },
     "metadata": {
      "needs_background": "light"
     },
     "output_type": "display_data"
    }
   ],
   "source": [
    "# 뭐지모르고쓰는코드\n",
    "diff1 = df.loc[:, 'size_Electrification_Level'].diff(periods=1).iloc[1:]\n",
    "diff1.plot()"
   ]
  },
  {
   "cell_type": "code",
   "execution_count": 23,
   "id": "76e4c5c3-d78e-4b72-8e96-cb705c2929f6",
   "metadata": {},
   "outputs": [
    {
     "name": "stdout",
     "output_type": "stream",
     "text": [
      "(-3.6841814264071986, 0.004341239099350596, 0, 44, {'1%': -3.5885733964124715, '5%': -2.929885661157025, '10%': -2.6031845661157025}, 29.050608461092374)\n",
      "-3.6841814264071986\n",
      "0.004341239099350596\n"
     ]
    },
    {
     "data": {
      "image/png": "[encoded data removed]",
      "text/plain": [
       "<Figure size 432x288 with 1 Axes>"
      ]
     },
     "metadata": {
      "needs_background": "light"
     },
     "output_type": "display_data"
    }
   ],
   "source": [
    "from statsmodels.tsa.stattools import adfuller\n",
    "\n",
    "diff1 = np.log(df['size_Electrification_Level']).diff(periods=1).iloc[1:]\n",
    "diff1.plot()\n",
    "result = adfuller(diff1)\n",
    "print(result)\n",
    "print(result[0])\n",
    "print(result[1])"
   ]
  },
  {
   "cell_type": "code",
   "execution_count": 24,
   "id": "657636d7-cbe6-4085-81db-51b6043e6078",
   "metadata": {},
   "outputs": [],
   "source": [
    "# !pip install pmdarima"
   ]
  },
  {
   "cell_type": "code",
   "execution_count": 25,
   "id": "d3c4fb37-5896-4c6e-ac4d-643a2850101c",
   "metadata": {},
   "outputs": [
    {
     "data": {
      "text/html": [
       "<style>#sk-container-id-1 {color: black;background-color: white;}#sk-container-id-1 pre{padding: 0;}#sk-container-id-1 div.sk-toggleable {background-color: white;}#sk-container-id-1 label.sk-toggleable__label {cursor: pointer;display: block;width: 100%;margin-bottom: 0;padding: 0.3em;box-sizing: border-box;text-align: center;}#sk-container-id-1 label.sk-toggleable__label-arrow:before {content: \"▸\";float: left;margin-right: 0.25em;color: #696969;}#sk-container-id-1 label.sk-toggleable__label-arrow:hover:before {color: black;}#sk-container-id-1 div.sk-estimator:hover label.sk-toggleable__label-arrow:before {color: black;}#sk-container-id-1 div.sk-toggleable__content {max-height: 0;max-width: 0;overflow: hidden;text-align: left;background-color: #f0f8ff;}#sk-container-id-1 div.sk-toggleable__content pre {margin: 0.2em;color: black;border-radius: 0.25em;background-color: #f0f8ff;}#sk-container-id-1 input.sk-toggleable__control:checked~div.sk-toggleable__content {max-height: 200px;max-width: 100%;overflow: auto;}#sk-container-id-1 input.sk-toggleable__control:checked~label.sk-toggleable__label-arrow:before {content: \"▾\";}#sk-container-id-1 div.sk-estimator input.sk-toggleable__control:checked~label.sk-toggleable__label {background-color: #d4ebff;}#sk-container-id-1 div.sk-label input.sk-toggleable__control:checked~label.sk-toggleable__label {background-color: #d4ebff;}#sk-container-id-1 input.sk-hidden--visually {border: 0;clip: rect(1px 1px 1px 1px);clip: rect(1px, 1px, 1px, 1px);height: 1px;margin: -1px;overflow: hidden;padding: 0;position: absolute;width: 1px;}#sk-container-id-1 div.sk-estimator {font-family: monospace;background-color: #f0f8ff;border: 1px dotted black;border-radius: 0.25em;box-sizing: border-box;margin-bottom: 0.5em;}#sk-container-id-1 div.sk-estimator:hover {background-color: #d4ebff;}#sk-container-id-1 div.sk-parallel-item::after {content: \"\";width: 100%;border-bottom: 1px solid gray;flex-grow: 1;}#sk-container-id-1 div.sk-label:hover label.sk-toggleable__label {background-color: #d4ebff;}#sk-container-id-1 div.sk-serial::before {content: \"\";position: absolute;border-left: 1px solid gray;box-sizing: border-box;top: 0;bottom: 0;left: 50%;z-index: 0;}#sk-container-id-1 div.sk-serial {display: flex;flex-direction: column;align-items: center;background-color: white;padding-right: 0.2em;padding-left: 0.2em;position: relative;}#sk-container-id-1 div.sk-item {position: relative;z-index: 1;}#sk-container-id-1 div.sk-parallel {display: flex;align-items: stretch;justify-content: center;background-color: white;position: relative;}#sk-container-id-1 div.sk-item::before, #sk-container-id-1 div.sk-parallel-item::before {content: \"\";position: absolute;border-left: 1px solid gray;box-sizing: border-box;top: 0;bottom: 0;left: 50%;z-index: -1;}#sk-container-id-1 div.sk-parallel-item {display: flex;flex-direction: column;z-index: 1;position: relative;background-color: white;}#sk-container-id-1 div.sk-parallel-item:first-child::after {align-self: flex-end;width: 50%;}#sk-container-id-1 div.sk-parallel-item:last-child::after {align-self: flex-start;width: 50%;}#sk-container-id-1 div.sk-parallel-item:only-child::after {width: 0;}#sk-container-id-1 div.sk-dashed-wrapped {border: 1px dashed gray;margin: 0 0.4em 0.5em 0.4em;box-sizing: border-box;padding-bottom: 0.4em;background-color: white;}#sk-container-id-1 div.sk-label label {font-family: monospace;font-weight: bold;display: inline-block;line-height: 1.2em;}#sk-container-id-1 div.sk-label-container {text-align: center;}#sk-container-id-1 div.sk-container {/* jupyter's `normalize.less` sets `[hidden] { display: none; }` but bootstrap.min.css set `[hidden] { display: none !important; }` so we also need the `!important` here to be able to override the default hidden behavior on the sphinx rendered scikit-learn.org. See: https://github.com/scikit-learn/scikit-learn/issues/21755 */display: inline-block !important;position: relative;}#sk-container-id-1 div.sk-text-repr-fallback {display: none;}</style><div id=\"sk-container-id-1\" class=\"sk-top-container\"><div class=\"sk-text-repr-fallback\"><pre> ARIMA(2,1,0)(0,0,0)[0]          </pre><b>In a Jupyter environment, please rerun this cell to show the HTML representation or trust the notebook. <br />On GitHub, the HTML representation is unable to render, please try loading this page with nbviewer.org.</b></div><div class=\"sk-container\" hidden><div class=\"sk-item\"><div class=\"sk-estimator sk-toggleable\"><input class=\"sk-toggleable__control sk-hidden--visually\" id=\"sk-estimator-id-1\" type=\"checkbox\" checked><label for=\"sk-estimator-id-1\" class=\"sk-toggleable__label sk-toggleable__label-arrow\">ARIMA</label><div class=\"sk-toggleable__content\"><pre> ARIMA(2,1,0)(0,0,0)[0]          </pre></div></div></div></div></div>"
      ],
      "text/plain": [
       "ARIMA(order=(2, 1, 0), scoring_args={}, suppress_warnings=True,\n",
       "      with_intercept=False)"
      ]
     },
     "execution_count": 25,
     "metadata": {},
     "output_type": "execute_result"
    }
   ],
   "source": [
    "from pmdarima.arima import auto_arima\n",
    "model = auto_arima(df['size_Electrification_Level'], suppress_warning=True)\n",
    "model"
   ]
  },
  {
   "cell_type": "code",
   "execution_count": 28,
   "id": "725b7b3f-135f-4f2b-a9a6-e3bb28b3c304",
   "metadata": {},
   "outputs": [
    {
     "name": "stdout",
     "output_type": "stream",
     "text": [
      "46\n",
      "[     2     10     50  13198  13753  17063  25372  32180  41733  41560\n",
      "  49740  67684  81705  94656 101596 129288 162638 187405 198045 280138\n",
      " 305856 379857 459300 496780 547484 613727 665647 727973 759529 775378\n",
      " 713473 469350 536543 610355 694421 806809]\n",
      "[827543 937473 909237 916210 854752 766971 548027 375383 158449   6125]\n"
     ]
    }
   ],
   "source": [
    "# 학습용, 검증용 구분\n",
    "n = int(df.shape[0]*.8)\n",
    "train = df[:n]\n",
    "test = df[n:]\n",
    "print(len(df['size_Electrification_Level']))\n",
    "print(train['size_Electrification_Level'].values)\n",
    "print(test['size_Electrification_Level'].values)"
   ]
  },
  {
   "cell_type": "code",
   "execution_count": 29,
   "id": "83f69f07-f49c-412e-9fd5-cffd21536f48",
   "metadata": {},
   "outputs": [
    {
     "name": "stderr",
     "output_type": "stream",
     "text": [
      "/Users/isc-yeon/opt/anaconda3/lib/python3.9/site-packages/statsmodels/tsa/base/tsa_model.py:471: ValueWarning: An unsupported index was provided and will be ignored when e.g. forecasting.\n",
      "  self._init_dates(dates, freq)\n",
      "/Users/isc-yeon/opt/anaconda3/lib/python3.9/site-packages/statsmodels/tsa/base/tsa_model.py:471: ValueWarning: An unsupported index was provided and will be ignored when e.g. forecasting.\n",
      "  self._init_dates(dates, freq)\n",
      "/Users/isc-yeon/opt/anaconda3/lib/python3.9/site-packages/statsmodels/tsa/base/tsa_model.py:471: ValueWarning: An unsupported index was provided and will be ignored when e.g. forecasting.\n",
      "  self._init_dates(dates, freq)\n"
     ]
    }
   ],
   "source": [
    "from statsmodels.tsa.arima.model import ARIMA\n",
    "model = ARIMA(train['size_Electrification_Level'], order=(0,1,0)).fit()"
   ]
  },
  {
   "cell_type": "code",
   "execution_count": 30,
   "id": "78fb8a87-1afc-4c48-a62c-8599fb88f947",
   "metadata": {},
   "outputs": [
    {
     "name": "stdout",
     "output_type": "stream",
     "text": [
      "36    806809.0\n",
      "37    806809.0\n",
      "38    806809.0\n",
      "39    806809.0\n",
      "40    806809.0\n",
      "Name: predicted_mean, dtype: float64\n"
     ]
    },
    {
     "name": "stderr",
     "output_type": "stream",
     "text": [
      "/Users/isc-yeon/opt/anaconda3/lib/python3.9/site-packages/statsmodels/tsa/base/tsa_model.py:834: ValueWarning: No supported index is available. Prediction results will be given with an integer index beginning at `start`.\n",
      "  return get_prediction_index(\n"
     ]
    }
   ],
   "source": [
    "fore = model.forecast(steps=5)\n",
    "print(fore)"
   ]
  },
  {
   "cell_type": "code",
   "execution_count": 53,
   "id": "67e89844-39bb-408d-aeed-883b1b6910de",
   "metadata": {},
   "outputs": [],
   "source": [
    "# from statsmodels.graphics.tsaplots import plot_predict\n",
    "# from statsmodels.tsa.arima.model import ARIMA"
   ]
  },
  {
   "cell_type": "code",
   "execution_count": 54,
   "id": "83d24816-75d2-4289-9282-1b6848f89b65",
   "metadata": {},
   "outputs": [],
   "source": [
    "# from statsmodels.tsa.arima.model.ARIMAResults import plot_predict"
   ]
  },
  {
   "cell_type": "code",
   "execution_count": 52,
   "id": "0650544d-09d2-4d13-b6dd-aa680b5dc574",
   "metadata": {},
   "outputs": [],
   "source": [
    "import matplotlib.pyplot as plt\n",
    "import pandas as pd\n",
    "import statsmodels.api as sm\n",
    "from statsmodels.graphics.tsaplots import plot_predict\n",
    "from statsmodels.tsa.arima.model import ARIMA\n",
    "\n",
    "dta = sm.datasets.sunspots.load_pandas().data[['SUNACTIVITY']]\n",
    "dta.index = pd.date_range(start='1700', end='2009', freq='A')\n",
    "res = ARIMA(dta, order=(0,2,0)).fit()\n",
    "fig, ax = plt.subplots()\n",
    "ax = dta.loc['1950':].plot(ax=ax)\n",
    "plot_predict(res, '1990', '2012', ax=ax)\n",
    "plt.show()"
   ]
  },
  {
   "cell_type": "code",
   "execution_count": 79,
   "id": "c69855fc-6f9b-44ed-af09-0c150e1328ed",
   "metadata": {},
   "outputs": [
    {
     "data": {
      "image/png": "[encoded data removed]",
      "text/plain": [
       "<Figure size 432x288 with 1 Axes>"
      ]
     },
     "metadata": {
      "needs_background": "light"
     },
     "output_type": "display_data"
    }
   ],
   "source": [
    "import matplotlib.pyplot as plt\n",
    "import pandas as pd\n",
    "import statsmodels.api as sm\n",
    "from statsmodels.graphics.tsaplots import plot_predict\n",
    "from statsmodels.tsa.arima.model import ARIMA\n",
    "\n",
    "dta = df['size_Electrification_Level']\n",
    "dta.index = pd.date_range(start='1966', end='2012', freq='A') # 시간인덱스??? 이상함 다시맞춰야됨\n",
    "res = ARIMA(dta, order=(0,1,0)).fit()\n",
    "fig, ax = plt.subplots()\n",
    "ax = dta.loc['1966':].plot(ax=ax)\n",
    "plot_predict(res, '1966', '2012', ax=ax)\n",
    "plt.show()"
   ]
  },
  {
   "cell_type": "code",
   "execution_count": null,
   "id": "104858a3-2369-4012-858f-6dadda9a704c",
   "metadata": {},
   "outputs": [],
   "source": []
  },
  {
   "cell_type": "code",
   "execution_count": null,
   "id": "d55ab9f6-fc5b-4c95-a6c5-44c4e1f72da8",
   "metadata": {},
   "outputs": [],
   "source": []
  },
  {
   "cell_type": "code",
   "execution_count": null,
   "id": "e03286c2-93d1-45b1-9972-61f466d4a3c1",
   "metadata": {},
   "outputs": [],
   "source": []
  },
  {
   "cell_type": "code",
   "execution_count": null,
   "id": "43535aec-49b4-4f7d-88c7-de0bb0dc5ddb",
   "metadata": {},
   "outputs": [],
   "source": []
  },
  {
   "cell_type": "code",
   "execution_count": null,
   "id": "8bd27a6d-c661-4975-a919-de925d91c482",
   "metadata": {},
   "outputs": [],
   "source": []
  },
  {
   "cell_type": "code",
   "execution_count": null,
   "id": "db117424-b4b0-434d-9779-b672f701b652",
   "metadata": {},
   "outputs": [],
   "source": []
  },
  {
   "cell_type": "code",
   "execution_count": null,
   "id": "b28275eb-8b36-47c9-84e3-f4ea292b6346",
   "metadata": {},
   "outputs": [],
   "source": []
  },
  {
   "cell_type": "code",
   "execution_count": null,
   "id": "24912fcc-12b9-41a6-af96-e04ba9d33aab",
   "metadata": {},
   "outputs": [],
   "source": []
  },
  {
   "cell_type": "code",
   "execution_count": null,
   "id": "3c8aa0e5-f4e0-4093-8912-49d314bd10c8",
   "metadata": {},
   "outputs": [
    {
     "data": {
      "text/plain": [
       "Int64Index([  0,   1,   2,   4,   5,   6,   7,   8,   9,  11,  12,  14,  16,\n",
       "             18,  19,  21,  23,  25,  27,  29,  32,  34,  37,  40,  43,  46,\n",
       "             50,  54,  58,  63,  68,  73,  78,  83,  88,  94, 100, 106, 112,\n",
       "            118, 123, 128, 133, 139, 145, 151],\n",
       "           dtype='int64')"
      ]
     },
     "execution_count": 34,
     "metadata": {},
     "output_type": "execute_result"
    }
   ],
   "source": [
    "df['size_Electrification_Level'].index"
   ]
  },
  {
   "cell_type": "code",
   "execution_count": null,
   "id": "c3312ee4-ca8e-48cf-b672-1f997a9bc5b9",
   "metadata": {},
   "outputs": [],
   "source": [
    "df['size_Electrification_Level'].index = pd.DatetimeIndex(df['size_Electrification_Level'].index).to_period('Y')\n",
    "\n"
   ]
  },
  {
   "cell_type": "code",
   "execution_count": null,
   "id": "d2aadf43-7a38-4d7d-bc6c-3ac55d0182a2",
   "metadata": {},
   "outputs": [
    {
     "data": {
      "text/plain": [
       "PeriodIndex(['1970', '1970', '1970', '1970', '1970', '1970', '1970', '1970',\n",
       "             '1970', '1970', '1970', '1970', '1970', '1970', '1970', '1970',\n",
       "             '1970', '1970', '1970', '1970', '1970', '1970', '1970', '1970',\n",
       "             '1970', '1970', '1970', '1970', '1970', '1970', '1970', '1970',\n",
       "             '1970', '1970', '1970', '1970', '1970', '1970', '1970', '1970',\n",
       "             '1970', '1970', '1970', '1970', '1970', '1970'],\n",
       "            dtype='period[A-DEC]')"
      ]
     },
     "execution_count": 36,
     "metadata": {},
     "output_type": "execute_result"
    }
   ],
   "source": [
    "df['size_Electrification_Level'].index"
   ]
  },
  {
   "cell_type": "code",
   "execution_count": null,
   "id": "56ea38a1-b92a-41e1-adc2-17f85d8134c9",
   "metadata": {},
   "outputs": [],
   "source": [
    "# 다중 선형 회귀?\n",
    "# 가치투자 - 실질적인 시장의 과거 반증을 봄으로써 특정 회사의 가치가 상승할 것으로 예측??? "
   ]
  },
  {
   "cell_type": "code",
   "execution_count": null,
   "id": "90365c2c-32ee-49f5-99e0-1aac1b78018a",
   "metadata": {},
   "outputs": [],
   "source": [
    "# 지금 데이터 일반차량 + 전기차 통합 데이터이기 때문에\n",
    "# 내연기관과 전기차량의 수요에 대한 시장의 반증을 볼수 있을까\n",
    "# 앞으로의 Electrification Level 에 따른 추후 시장 demand 예측. 각각 타입에 따라 증감이 있을까\n",
    "# 선형 회귀\n",
    "# Y 수량, X는 기간 ?"
   ]
  },
  {
   "cell_type": "code",
   "execution_count": null,
   "id": "812e5540-3d7e-47a4-8cad-9f04550eda93",
   "metadata": {},
   "outputs": [],
   "source": [
    "# 시계열 (X -> Model Year) 1966 ~ 2023\n",
    "# 데이터 불균형이 심함?\n",
    "# 전처리 우선 해보기 : 컬럼 2개 Year(연속형), ICE(연속형), Strong HEV(연속형) .... \n",
    "# 컬럼이 2개면 안되지 컬럼이 7개여야함\n",
    "# 6주차 참고중이엇음... + 7, 10, 11 주차"
   ]
  }
 ],
 "metadata": {
  "kernelspec": {
   "display_name": "Python 3 (ipykernel)",
   "language": "python",
   "name": "python3"
  },
  "language_info": {
   "codemirror_mode": {
    "name": "ipython",
    "version": 3
   },
   "file_extension": ".py",
   "mimetype": "text/x-python",
   "name": "python",
   "nbconvert_exporter": "python",
   "pygments_lexer": "ipython3",
   "version": "3.9.7"
  }
 },
 "nbformat": 4,
 "nbformat_minor": 5
}
