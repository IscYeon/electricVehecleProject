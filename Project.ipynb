{
 "cells": [
  {
   "cell_type": "markdown",
   "id": "e41b1b90-df36-4a74-b897-003d3c425f26",
   "metadata": {},
   "source": [
    "<div style=\"text-align: right\"> <b>데이터분석과기계학습 프로젝트(연이삭)</b></div>\n",
    "\n",
    "---"
   ]
  },
  {
   "cell_type": "markdown",
   "id": "1b7f3bce-bbaf-4b87-913d-2b3e2c638781",
   "metadata": {
    "tags": []
   },
   "source": [
    "주피터 노트북 파일 주소<br>\n",
    "https://github.com/IscYeon/electricVehecleProject/blob/main/groupProj.ipynb\n",
    "<br><br>"
   ]
  },
  {
   "cell_type": "markdown",
   "id": "3a8208ba-6d78-4c3a-8df2-659dbe5b85ae",
   "metadata": {},
   "source": [
    "Below webpage is the general purpose open data portal for the State of Washington.<br>\n",
    "We downloaded and used csv files from this portal for our analysis practice.<br>\n",
    "아래 웹페이지는 워싱턴 주 공공오픈데이터포털입니다. 저희는 여기에서 csv 파일을 받아 분석 실습을 하였습니다.\n",
    "<br>\n",
    "https://data.wa.gov\n",
    "<br><br><br><br>"
   ]
  },
  {
   "cell_type": "code",
   "execution_count": 1,
   "id": "33630206-acf6-41dd-9419-5067587cad09",
   "metadata": {},
   "outputs": [],
   "source": [
    "import os\n",
    "import pandas as pd\n",
    "import numpy as np\n",
    "import matplotlib.pyplot as plt\n",
    "import seaborn as sns"
   ]
  },
  {
   "cell_type": "code",
   "execution_count": 2,
   "id": "22100103-9e9f-4e6e-9075-281dd056f43f",
   "metadata": {},
   "outputs": [
    {
     "data": {
      "text/html": [
       "<div>\n",
       "<style scoped>\n",
       "    .dataframe tbody tr th:only-of-type {\n",
       "        vertical-align: middle;\n",
       "    }\n",
       "\n",
       "    .dataframe tbody tr th {\n",
       "        vertical-align: top;\n",
       "    }\n",
       "\n",
       "    .dataframe thead th {\n",
       "        text-align: right;\n",
       "    }\n",
       "</style>\n",
       "<table border=\"1\" class=\"dataframe\">\n",
       "  <thead>\n",
       "    <tr style=\"text-align: right;\">\n",
       "      <th></th>\n",
       "      <th>VIN (1-10)</th>\n",
       "      <th>County</th>\n",
       "      <th>City</th>\n",
       "      <th>State</th>\n",
       "      <th>ZIP Code</th>\n",
       "      <th>Model Year</th>\n",
       "      <th>Make</th>\n",
       "      <th>Model</th>\n",
       "      <th>Electric Vehicle Type</th>\n",
       "      <th>Clean Alternative Fuel Vehicle (CAFV) Eligibility</th>\n",
       "      <th>Electric Range</th>\n",
       "      <th>Base MSRP</th>\n",
       "      <th>Legislative District</th>\n",
       "      <th>DOL Vehicle ID</th>\n",
       "      <th>Vehicle Location</th>\n",
       "      <th>Electric Utility</th>\n",
       "    </tr>\n",
       "  </thead>\n",
       "  <tbody>\n",
       "    <tr>\n",
       "      <th>0</th>\n",
       "      <td>1G1RC6E45F</td>\n",
       "      <td>Thurston</td>\n",
       "      <td>TENINO</td>\n",
       "      <td>WA</td>\n",
       "      <td>98589</td>\n",
       "      <td>2015</td>\n",
       "      <td>CHEVROLET</td>\n",
       "      <td>VOLT</td>\n",
       "      <td>Plug-in Hybrid Electric Vehicle (PHEV)</td>\n",
       "      <td>Clean Alternative Fuel Vehicle Eligible</td>\n",
       "      <td>38</td>\n",
       "      <td>0</td>\n",
       "      <td>35.0</td>\n",
       "      <td>157715015</td>\n",
       "      <td>POINT (-122.842388 46.855401)</td>\n",
       "      <td>PUGET SOUND ENERGY INC</td>\n",
       "    </tr>\n",
       "    <tr>\n",
       "      <th>1</th>\n",
       "      <td>5YJSA1E26J</td>\n",
       "      <td>Snohomish</td>\n",
       "      <td>MUKILTEO</td>\n",
       "      <td>WA</td>\n",
       "      <td>98275</td>\n",
       "      <td>2018</td>\n",
       "      <td>TESLA</td>\n",
       "      <td>MODEL S</td>\n",
       "      <td>Battery Electric Vehicle (BEV)</td>\n",
       "      <td>Clean Alternative Fuel Vehicle Eligible</td>\n",
       "      <td>249</td>\n",
       "      <td>0</td>\n",
       "      <td>21.0</td>\n",
       "      <td>474398907</td>\n",
       "      <td>POINT (-122.302507 47.911921)</td>\n",
       "      <td>PUGET SOUND ENERGY INC</td>\n",
       "    </tr>\n",
       "    <tr>\n",
       "      <th>2</th>\n",
       "      <td>5YJSA1E26K</td>\n",
       "      <td>Camden</td>\n",
       "      <td>SAINT MARYS</td>\n",
       "      <td>GA</td>\n",
       "      <td>31558</td>\n",
       "      <td>2019</td>\n",
       "      <td>TESLA</td>\n",
       "      <td>MODEL S</td>\n",
       "      <td>Battery Electric Vehicle (BEV)</td>\n",
       "      <td>Clean Alternative Fuel Vehicle Eligible</td>\n",
       "      <td>270</td>\n",
       "      <td>0</td>\n",
       "      <td>NaN</td>\n",
       "      <td>185220493</td>\n",
       "      <td>POINT (-81.558651 30.777128)</td>\n",
       "      <td>NaN</td>\n",
       "    </tr>\n",
       "    <tr>\n",
       "      <th>3</th>\n",
       "      <td>1G1FW6S03H</td>\n",
       "      <td>Thurston</td>\n",
       "      <td>LACEY</td>\n",
       "      <td>WA</td>\n",
       "      <td>98503</td>\n",
       "      <td>2017</td>\n",
       "      <td>CHEVROLET</td>\n",
       "      <td>BOLT EV</td>\n",
       "      <td>Battery Electric Vehicle (BEV)</td>\n",
       "      <td>Clean Alternative Fuel Vehicle Eligible</td>\n",
       "      <td>238</td>\n",
       "      <td>0</td>\n",
       "      <td>22.0</td>\n",
       "      <td>196814537</td>\n",
       "      <td>POINT (-122.80237 47.02499)</td>\n",
       "      <td>PUGET SOUND ENERGY INC</td>\n",
       "    </tr>\n",
       "    <tr>\n",
       "      <th>4</th>\n",
       "      <td>1N4AZ0CP6D</td>\n",
       "      <td>Skagit</td>\n",
       "      <td>MOUNT VERNON</td>\n",
       "      <td>WA</td>\n",
       "      <td>98273</td>\n",
       "      <td>2013</td>\n",
       "      <td>NISSAN</td>\n",
       "      <td>LEAF</td>\n",
       "      <td>Battery Electric Vehicle (BEV)</td>\n",
       "      <td>Clean Alternative Fuel Vehicle Eligible</td>\n",
       "      <td>75</td>\n",
       "      <td>0</td>\n",
       "      <td>40.0</td>\n",
       "      <td>171974470</td>\n",
       "      <td>POINT (-122.355669 48.416422)</td>\n",
       "      <td>PUGET SOUND ENERGY INC</td>\n",
       "    </tr>\n",
       "  </tbody>\n",
       "</table>\n",
       "</div>"
      ],
      "text/plain": [
       "   VIN (1-10)     County          City State  ZIP Code  Model Year       Make  \\\n",
       "0  1G1RC6E45F   Thurston        TENINO    WA     98589        2015  CHEVROLET   \n",
       "1  5YJSA1E26J  Snohomish      MUKILTEO    WA     98275        2018      TESLA   \n",
       "2  5YJSA1E26K     Camden   SAINT MARYS    GA     31558        2019      TESLA   \n",
       "3  1G1FW6S03H   Thurston         LACEY    WA     98503        2017  CHEVROLET   \n",
       "4  1N4AZ0CP6D     Skagit  MOUNT VERNON    WA     98273        2013     NISSAN   \n",
       "\n",
       "     Model                   Electric Vehicle Type  \\\n",
       "0     VOLT  Plug-in Hybrid Electric Vehicle (PHEV)   \n",
       "1  MODEL S          Battery Electric Vehicle (BEV)   \n",
       "2  MODEL S          Battery Electric Vehicle (BEV)   \n",
       "3  BOLT EV          Battery Electric Vehicle (BEV)   \n",
       "4     LEAF          Battery Electric Vehicle (BEV)   \n",
       "\n",
       "  Clean Alternative Fuel Vehicle (CAFV) Eligibility  Electric Range  \\\n",
       "0           Clean Alternative Fuel Vehicle Eligible              38   \n",
       "1           Clean Alternative Fuel Vehicle Eligible             249   \n",
       "2           Clean Alternative Fuel Vehicle Eligible             270   \n",
       "3           Clean Alternative Fuel Vehicle Eligible             238   \n",
       "4           Clean Alternative Fuel Vehicle Eligible              75   \n",
       "\n",
       "   Base MSRP  Legislative District  DOL Vehicle ID  \\\n",
       "0          0                  35.0       157715015   \n",
       "1          0                  21.0       474398907   \n",
       "2          0                   NaN       185220493   \n",
       "3          0                  22.0       196814537   \n",
       "4          0                  40.0       171974470   \n",
       "\n",
       "                Vehicle Location        Electric Utility  \n",
       "0  POINT (-122.842388 46.855401)  PUGET SOUND ENERGY INC  \n",
       "1  POINT (-122.302507 47.911921)  PUGET SOUND ENERGY INC  \n",
       "2   POINT (-81.558651 30.777128)                     NaN  \n",
       "3    POINT (-122.80237 47.02499)  PUGET SOUND ENERGY INC  \n",
       "4  POINT (-122.355669 48.416422)  PUGET SOUND ENERGY INC  "
      ]
     },
     "execution_count": 2,
     "metadata": {},
     "output_type": "execute_result"
    }
   ],
   "source": [
    "electric = pd.read_csv('/Users/isc-yeon/Documents/projectData/Electric_Vehicle_Population_Data.csv')\n",
    "\n",
    "electric.head()"
   ]
  },
  {
   "cell_type": "code",
   "execution_count": 3,
   "id": "e2aab870-b53d-47d0-991a-580454c4a68b",
   "metadata": {},
   "outputs": [
    {
     "data": {
      "text/plain": [
       "0"
      ]
     },
     "execution_count": 3,
     "metadata": {},
     "output_type": "execute_result"
    }
   ],
   "source": [
    "electric.loc[:, 'Electric Vehicle Type'].isnull().sum()"
   ]
  },
  {
   "cell_type": "code",
   "execution_count": 4,
   "id": "bad34846-a73d-464e-9061-12e710c2d889",
   "metadata": {},
   "outputs": [
    {
     "data": {
      "text/plain": [
       "0"
      ]
     },
     "execution_count": 4,
     "metadata": {},
     "output_type": "execute_result"
    }
   ],
   "source": [
    "electric.loc[:, 'Electric Range'].isnull().sum()"
   ]
  },
  {
   "cell_type": "code",
   "execution_count": 5,
   "id": "3bb4dbf1-2de5-48d7-86a3-9acad58a51e3",
   "metadata": {},
   "outputs": [
    {
     "data": {
      "text/plain": [
       "0      21269\n",
       "215     6264\n",
       "84      4077\n",
       "220     4061\n",
       "238     3572\n",
       "       ...  \n",
       "95         2\n",
       "74         2\n",
       "57         1\n",
       "80         1\n",
       "59         1\n",
       "Name: Electric Range, Length: 99, dtype: int64"
      ]
     },
     "execution_count": 5,
     "metadata": {},
     "output_type": "execute_result"
    }
   ],
   "source": [
    "electric.loc[:, 'Electric Range'].value_counts()"
   ]
  },
  {
   "cell_type": "code",
   "execution_count": 6,
   "id": "43cf8a79-a8a2-4c9e-b729-56a69908b66d",
   "metadata": {},
   "outputs": [
    {
     "data": {
      "text/plain": [
       "<AxesSubplot:ylabel='Frequency'>"
      ]
     },
     "execution_count": 6,
     "metadata": {},
     "output_type": "execute_result"
    },
    {
     "data": {
      "image/png": "[encoded data removed]",
      "text/plain": [
       "<Figure size 432x288 with 1 Axes>"
      ]
     },
     "metadata": {
      "needs_background": "light"
     },
     "output_type": "display_data"
    }
   ],
   "source": [
    "electric.loc[:, 'Electric Range'].plot.hist(bins=40)"
   ]
  },
  {
   "cell_type": "code",
   "execution_count": 7,
   "id": "4f05c8b5-8dd2-4a37-80bf-264b5156bc33",
   "metadata": {},
   "outputs": [
    {
     "data": {
      "text/plain": [
       "count    91933.000000\n",
       "mean       106.913774\n",
       "std        104.047660\n",
       "min          0.000000\n",
       "25%         14.000000\n",
       "50%         73.000000\n",
       "75%        215.000000\n",
       "max        337.000000\n",
       "Name: Electric Range, dtype: float64"
      ]
     },
     "execution_count": 7,
     "metadata": {},
     "output_type": "execute_result"
    }
   ],
   "source": [
    "electric.loc[:, 'Electric Range'].describe()"
   ]
  },
  {
   "cell_type": "code",
   "execution_count": 8,
   "id": "e73d9ba8-01cf-4bed-92a4-294af5965383",
   "metadata": {},
   "outputs": [
    {
     "data": {
      "text/plain": [
       "<AxesSubplot:>"
      ]
     },
     "execution_count": 8,
     "metadata": {},
     "output_type": "execute_result"
    },
    {
     "data": {
      "image/png": "[encoded data removed]",
      "text/plain": [
       "<Figure size 720x576 with 1 Axes>"
      ]
     },
     "metadata": {
      "needs_background": "light"
     },
     "output_type": "display_data"
    }
   ],
   "source": [
    "fig, ax = plt.subplots(figsize=(10, 8))\n",
    "electric.loc[:, 'Electric Range'].hist(ax=ax)"
   ]
  },
  {
   "cell_type": "code",
   "execution_count": 9,
   "id": "d73429a8-f0b8-4a76-95d9-3b7a70d4d1b0",
   "metadata": {},
   "outputs": [
    {
     "data": {
      "text/plain": [
       "<AxesSubplot:>"
      ]
     },
     "execution_count": 9,
     "metadata": {},
     "output_type": "execute_result"
    },
    {
     "data": {
      "image/png": "[encoded data removed]",
      "text/plain": [
       "<Figure size 720x576 with 1 Axes>"
      ]
     },
     "metadata": {
      "needs_background": "light"
     },
     "output_type": "display_data"
    }
   ],
   "source": [
    "fig, ax = plt.subplots(figsize=(10, 8))\n",
    "electric.loc[:, 'Electric Range'].hist(ax=ax, bins=50)"
   ]
  },
  {
   "cell_type": "code",
   "execution_count": 10,
   "id": "4b98cc9a-b74d-43d6-828e-0f0d846dd498",
   "metadata": {},
   "outputs": [
    {
     "data": {
      "text/html": [
       "<div>\n",
       "<style scoped>\n",
       "    .dataframe tbody tr th:only-of-type {\n",
       "        vertical-align: middle;\n",
       "    }\n",
       "\n",
       "    .dataframe tbody tr th {\n",
       "        vertical-align: top;\n",
       "    }\n",
       "\n",
       "    .dataframe thead th {\n",
       "        text-align: right;\n",
       "    }\n",
       "</style>\n",
       "<table border=\"1\" class=\"dataframe\">\n",
       "  <thead>\n",
       "    <tr style=\"text-align: right;\">\n",
       "      <th></th>\n",
       "      <th>VIN (1-10)</th>\n",
       "      <th>County</th>\n",
       "      <th>City</th>\n",
       "      <th>State</th>\n",
       "      <th>ZIP Code</th>\n",
       "      <th>Model Year</th>\n",
       "      <th>Make</th>\n",
       "      <th>Model</th>\n",
       "      <th>Electric Vehicle Type</th>\n",
       "      <th>Clean Alternative Fuel Vehicle (CAFV) Eligibility</th>\n",
       "      <th>Electric Range</th>\n",
       "      <th>Base MSRP</th>\n",
       "      <th>Legislative District</th>\n",
       "      <th>DOL Vehicle ID</th>\n",
       "      <th>Vehicle Location</th>\n",
       "      <th>Electric Utility</th>\n",
       "    </tr>\n",
       "  </thead>\n",
       "  <tbody>\n",
       "    <tr>\n",
       "      <th>15</th>\n",
       "      <td>5YJYGAEE6M</td>\n",
       "      <td>Yakima</td>\n",
       "      <td>SELAH</td>\n",
       "      <td>WA</td>\n",
       "      <td>98942</td>\n",
       "      <td>2021</td>\n",
       "      <td>TESLA</td>\n",
       "      <td>MODEL Y</td>\n",
       "      <td>Battery Electric Vehicle (BEV)</td>\n",
       "      <td>Eligibility unknown as battery range has not b...</td>\n",
       "      <td>0</td>\n",
       "      <td>0</td>\n",
       "      <td>15.0</td>\n",
       "      <td>150244713</td>\n",
       "      <td>POINT (-120.617234 46.746828)</td>\n",
       "      <td>NaN</td>\n",
       "    </tr>\n",
       "    <tr>\n",
       "      <th>41</th>\n",
       "      <td>5YJ3E1EB6M</td>\n",
       "      <td>Yakima</td>\n",
       "      <td>NACHES</td>\n",
       "      <td>WA</td>\n",
       "      <td>98937</td>\n",
       "      <td>2021</td>\n",
       "      <td>TESLA</td>\n",
       "      <td>MODEL 3</td>\n",
       "      <td>Battery Electric Vehicle (BEV)</td>\n",
       "      <td>Eligibility unknown as battery range has not b...</td>\n",
       "      <td>0</td>\n",
       "      <td>0</td>\n",
       "      <td>14.0</td>\n",
       "      <td>176230267</td>\n",
       "      <td>POINT (-121.074328 46.76563)</td>\n",
       "      <td>NaN</td>\n",
       "    </tr>\n",
       "    <tr>\n",
       "      <th>59</th>\n",
       "      <td>1FTFW1ED8M</td>\n",
       "      <td>King</td>\n",
       "      <td>REDMOND</td>\n",
       "      <td>WA</td>\n",
       "      <td>98052</td>\n",
       "      <td>2021</td>\n",
       "      <td>FORD</td>\n",
       "      <td>F-150</td>\n",
       "      <td>Battery Electric Vehicle (BEV)</td>\n",
       "      <td>Eligibility unknown as battery range has not b...</td>\n",
       "      <td>0</td>\n",
       "      <td>0</td>\n",
       "      <td>45.0</td>\n",
       "      <td>183121361</td>\n",
       "      <td>POINT (-122.122018 47.678465)</td>\n",
       "      <td>PUGET SOUND ENERGY INC||CITY OF TACOMA - (WA)</td>\n",
       "    </tr>\n",
       "    <tr>\n",
       "      <th>139</th>\n",
       "      <td>5YJYGDEE7M</td>\n",
       "      <td>King</td>\n",
       "      <td>SEATTLE</td>\n",
       "      <td>WA</td>\n",
       "      <td>98107</td>\n",
       "      <td>2021</td>\n",
       "      <td>TESLA</td>\n",
       "      <td>MODEL Y</td>\n",
       "      <td>Battery Electric Vehicle (BEV)</td>\n",
       "      <td>Eligibility unknown as battery range has not b...</td>\n",
       "      <td>0</td>\n",
       "      <td>0</td>\n",
       "      <td>36.0</td>\n",
       "      <td>168775190</td>\n",
       "      <td>NaN</td>\n",
       "      <td>CITY OF SEATTLE - (WA)|CITY OF TACOMA - (WA)</td>\n",
       "    </tr>\n",
       "    <tr>\n",
       "      <th>155</th>\n",
       "      <td>1FTFW1ED3M</td>\n",
       "      <td>Skagit</td>\n",
       "      <td>ANACORTES</td>\n",
       "      <td>WA</td>\n",
       "      <td>98221</td>\n",
       "      <td>2021</td>\n",
       "      <td>FORD</td>\n",
       "      <td>F-150</td>\n",
       "      <td>Battery Electric Vehicle (BEV)</td>\n",
       "      <td>Eligibility unknown as battery range has not b...</td>\n",
       "      <td>0</td>\n",
       "      <td>0</td>\n",
       "      <td>40.0</td>\n",
       "      <td>156809278</td>\n",
       "      <td>POINT (-122.628418 48.487079)</td>\n",
       "      <td>PUGET SOUND ENERGY INC</td>\n",
       "    </tr>\n",
       "  </tbody>\n",
       "</table>\n",
       "</div>"
      ],
      "text/plain": [
       "     VIN (1-10)  County       City State  ZIP Code  Model Year   Make  \\\n",
       "15   5YJYGAEE6M  Yakima      SELAH    WA     98942        2021  TESLA   \n",
       "41   5YJ3E1EB6M  Yakima     NACHES    WA     98937        2021  TESLA   \n",
       "59   1FTFW1ED8M    King    REDMOND    WA     98052        2021   FORD   \n",
       "139  5YJYGDEE7M    King    SEATTLE    WA     98107        2021  TESLA   \n",
       "155  1FTFW1ED3M  Skagit  ANACORTES    WA     98221        2021   FORD   \n",
       "\n",
       "       Model           Electric Vehicle Type  \\\n",
       "15   MODEL Y  Battery Electric Vehicle (BEV)   \n",
       "41   MODEL 3  Battery Electric Vehicle (BEV)   \n",
       "59     F-150  Battery Electric Vehicle (BEV)   \n",
       "139  MODEL Y  Battery Electric Vehicle (BEV)   \n",
       "155    F-150  Battery Electric Vehicle (BEV)   \n",
       "\n",
       "     Clean Alternative Fuel Vehicle (CAFV) Eligibility  Electric Range  \\\n",
       "15   Eligibility unknown as battery range has not b...               0   \n",
       "41   Eligibility unknown as battery range has not b...               0   \n",
       "59   Eligibility unknown as battery range has not b...               0   \n",
       "139  Eligibility unknown as battery range has not b...               0   \n",
       "155  Eligibility unknown as battery range has not b...               0   \n",
       "\n",
       "     Base MSRP  Legislative District  DOL Vehicle ID  \\\n",
       "15           0                  15.0       150244713   \n",
       "41           0                  14.0       176230267   \n",
       "59           0                  45.0       183121361   \n",
       "139          0                  36.0       168775190   \n",
       "155          0                  40.0       156809278   \n",
       "\n",
       "                  Vehicle Location  \\\n",
       "15   POINT (-120.617234 46.746828)   \n",
       "41    POINT (-121.074328 46.76563)   \n",
       "59   POINT (-122.122018 47.678465)   \n",
       "139                            NaN   \n",
       "155  POINT (-122.628418 48.487079)   \n",
       "\n",
       "                                  Electric Utility  \n",
       "15                                             NaN  \n",
       "41                                             NaN  \n",
       "59   PUGET SOUND ENERGY INC||CITY OF TACOMA - (WA)  \n",
       "139   CITY OF SEATTLE - (WA)|CITY OF TACOMA - (WA)  \n",
       "155                         PUGET SOUND ENERGY INC  "
      ]
     },
     "execution_count": 10,
     "metadata": {},
     "output_type": "execute_result"
    }
   ],
   "source": [
    "electric[electric['Electric Range'] == 0].head()"
   ]
  },
  {
   "cell_type": "code",
   "execution_count": 11,
   "id": "7ad544f8-bf3b-463b-9bda-7d426ef785c8",
   "metadata": {},
   "outputs": [
    {
     "data": {
      "text/plain": [
       "Int64Index([   15,    41,    59,   139,   155,   167,   179,   184,   185,\n",
       "              203,\n",
       "            ...\n",
       "            91863, 91866, 91888, 91889, 91906, 91911, 91916, 91918, 91919,\n",
       "            91925],\n",
       "           dtype='int64', length=21269)"
      ]
     },
     "execution_count": 11,
     "metadata": {},
     "output_type": "execute_result"
    }
   ],
   "source": [
    "electric[electric['Electric Range'] == 0].index"
   ]
  },
  {
   "cell_type": "code",
   "execution_count": 12,
   "id": "7479d7d4-94d6-4206-9746-ff42c68f02a5",
   "metadata": {},
   "outputs": [],
   "source": [
    "is_zero = electric[electric['Electric Range'] == 0].index"
   ]
  },
  {
   "cell_type": "code",
   "execution_count": 13,
   "id": "7efc84f0-d136-42ef-82ce-56b5d08ca044",
   "metadata": {},
   "outputs": [
    {
     "data": {
      "text/plain": [
       "99"
      ]
     },
     "execution_count": 13,
     "metadata": {},
     "output_type": "execute_result"
    }
   ],
   "source": [
    "electric.loc[:, 'Electric Range'].nunique()"
   ]
  },
  {
   "cell_type": "code",
   "execution_count": 14,
   "id": "86bec1aa-7297-49ad-9df4-09a38327ee43",
   "metadata": {},
   "outputs": [
    {
     "name": "stdout",
     "output_type": "stream",
     "text": [
      "<class 'pandas.core.frame.DataFrame'>\n",
      "RangeIndex: 91933 entries, 0 to 91932\n",
      "Data columns (total 16 columns):\n",
      " #   Column                                             Non-Null Count  Dtype  \n",
      "---  ------                                             --------------  -----  \n",
      " 0   VIN (1-10)                                         91933 non-null  object \n",
      " 1   County                                             91925 non-null  object \n",
      " 2   City                                               91933 non-null  object \n",
      " 3   State                                              91933 non-null  object \n",
      " 4   ZIP Code                                           91933 non-null  int64  \n",
      " 5   Model Year                                         91933 non-null  int64  \n",
      " 6   Make                                               91933 non-null  object \n",
      " 7   Model                                              91916 non-null  object \n",
      " 8   Electric Vehicle Type                              91933 non-null  object \n",
      " 9   Clean Alternative Fuel Vehicle (CAFV) Eligibility  91933 non-null  object \n",
      " 10  Electric Range                                     91933 non-null  int64  \n",
      " 11  Base MSRP                                          91933 non-null  int64  \n",
      " 12  Legislative District                               91694 non-null  float64\n",
      " 13  DOL Vehicle ID                                     91933 non-null  int64  \n",
      " 14  Vehicle Location                                   91170 non-null  object \n",
      " 15  Electric Utility                                   90884 non-null  object \n",
      "dtypes: float64(1), int64(5), object(10)\n",
      "memory usage: 11.2+ MB\n"
     ]
    }
   ],
   "source": [
    "electric.info()"
   ]
  },
  {
   "cell_type": "code",
   "execution_count": 15,
   "id": "f18d5d0f-2578-4a45-94fc-c6fc257b2152",
   "metadata": {},
   "outputs": [],
   "source": [
    "electric = electric.drop(is_zero)"
   ]
  },
  {
   "cell_type": "code",
   "execution_count": 16,
   "id": "bee0bca8-4734-49a6-90b9-072a4aa93aa7",
   "metadata": {},
   "outputs": [
    {
     "name": "stdout",
     "output_type": "stream",
     "text": [
      "<class 'pandas.core.frame.DataFrame'>\n",
      "Int64Index: 70664 entries, 0 to 91932\n",
      "Data columns (total 16 columns):\n",
      " #   Column                                             Non-Null Count  Dtype  \n",
      "---  ------                                             --------------  -----  \n",
      " 0   VIN (1-10)                                         70664 non-null  object \n",
      " 1   County                                             70656 non-null  object \n",
      " 2   City                                               70664 non-null  object \n",
      " 3   State                                              70664 non-null  object \n",
      " 4   ZIP Code                                           70664 non-null  int64  \n",
      " 5   Model Year                                         70664 non-null  int64  \n",
      " 6   Make                                               70664 non-null  object \n",
      " 7   Model                                              70647 non-null  object \n",
      " 8   Electric Vehicle Type                              70664 non-null  object \n",
      " 9   Clean Alternative Fuel Vehicle (CAFV) Eligibility  70664 non-null  object \n",
      " 10  Electric Range                                     70664 non-null  int64  \n",
      " 11  Base MSRP                                          70664 non-null  int64  \n",
      " 12  Legislative District                               70458 non-null  float64\n",
      " 13  DOL Vehicle ID                                     70664 non-null  int64  \n",
      " 14  Vehicle Location                                   70085 non-null  object \n",
      " 15  Electric Utility                                   69827 non-null  object \n",
      "dtypes: float64(1), int64(5), object(10)\n",
      "memory usage: 9.2+ MB\n"
     ]
    }
   ],
   "source": [
    "electric.info()"
   ]
  },
  {
   "cell_type": "code",
   "execution_count": 17,
   "id": "4d160a10-f8e9-43a0-a848-ba28f3c25cb0",
   "metadata": {},
   "outputs": [
    {
     "data": {
      "text/plain": [
       "98"
      ]
     },
     "execution_count": 17,
     "metadata": {},
     "output_type": "execute_result"
    }
   ],
   "source": [
    "electric.loc[:, 'Electric Range'].nunique()"
   ]
  },
  {
   "cell_type": "code",
   "execution_count": 18,
   "id": "65c83cfb-9888-4e0c-a29a-1f6ade265b24",
   "metadata": {},
   "outputs": [
    {
     "data": {
      "text/plain": [
       "<AxesSubplot:>"
      ]
     },
     "execution_count": 18,
     "metadata": {},
     "output_type": "execute_result"
    },
    {
     "data": {
      "image/png": "[encoded data removed]",
      "text/plain": [
       "<Figure size 720x576 with 1 Axes>"
      ]
     },
     "metadata": {
      "needs_background": "light"
     },
     "output_type": "display_data"
    }
   ],
   "source": [
    "fig, ax = plt.subplots(figsize=(10, 8))\n",
    "electric.loc[:, 'Electric Range'].hist(ax=ax, bins=50)"
   ]
  },
  {
   "cell_type": "code",
   "execution_count": 19,
   "id": "a6843f8a-b3b9-467a-a32e-a14bce7768d1",
   "metadata": {},
   "outputs": [
    {
     "data": {
      "text/plain": [
       "<AxesSubplot:xlabel='Electric Range', ylabel='Count'>"
      ]
     },
     "execution_count": 19,
     "metadata": {},
     "output_type": "execute_result"
    },
    {
     "data": {
      "image/png": "[encoded data removed]",
      "text/plain": [
       "<Figure size 720x576 with 1 Axes>"
      ]
     },
     "metadata": {
      "needs_background": "light"
     },
     "output_type": "display_data"
    }
   ],
   "source": [
    "fig, ax = plt.subplots(figsize=(10, 8))\n",
    "sns.histplot(data=electric,\n",
    "             x=electric.loc[:, 'Electric Range'],\n",
    "             hue=electric.loc[:, 'Electric Vehicle Type'],\n",
    "             ax=ax,\n",
    "             binwidth=10\n",
    "            )"
   ]
  },
  {
   "cell_type": "code",
   "execution_count": 20,
   "id": "9a503b9e-801a-4ccc-b40c-536a90182e36",
   "metadata": {},
   "outputs": [
    {
     "data": {
      "text/plain": [
       "DOL Vehicle ID         -0.042379\n",
       "Base MSRP              -0.014475\n",
       "ZIP Code               -0.008116\n",
       "Legislative District    0.062384\n",
       "Model Year              0.368184\n",
       "Electric Range          1.000000\n",
       "Name: Electric Range, dtype: float64"
      ]
     },
     "execution_count": 20,
     "metadata": {},
     "output_type": "execute_result"
    }
   ],
   "source": [
    "electric.corr()['Electric Range'].sort_values()"
   ]
  },
  {
   "cell_type": "code",
   "execution_count": 21,
   "id": "b09a2812-3712-4e1d-aa69-813c678b3f79",
   "metadata": {},
   "outputs": [
    {
     "data": {
      "text/plain": [
       "VIN (1-10)                                           0\n",
       "County                                               0\n",
       "City                                                 0\n",
       "State                                                0\n",
       "ZIP Code                                             0\n",
       "Model Year                                           0\n",
       "Make                                                 0\n",
       "Model                                                0\n",
       "Electric Vehicle Type                                0\n",
       "Clean Alternative Fuel Vehicle (CAFV) Eligibility    0\n",
       "Electric Range                                       0\n",
       "Base MSRP                                            0\n",
       "Legislative District                                 0\n",
       "DOL Vehicle ID                                       0\n",
       "Vehicle Location                                     0\n",
       "Electric Utility                                     0\n",
       "dtype: int64"
      ]
     },
     "execution_count": 21,
     "metadata": {},
     "output_type": "execute_result"
    }
   ],
   "source": [
    "electric = electric.dropna()\n",
    "electric.isna().sum()"
   ]
  },
  {
   "cell_type": "code",
   "execution_count": 22,
   "id": "c05ed611-3a12-4f5b-9602-26ee37f62d62",
   "metadata": {},
   "outputs": [],
   "source": [
    "import statsmodels.api as sm\n",
    "\n",
    "df = electric.iloc[:,[5,12]]\n",
    "y = electric.iloc[:,[10]]"
   ]
  },
  {
   "cell_type": "code",
   "execution_count": 23,
   "id": "bed81042-719b-413e-8757-cae0ae3e5929",
   "metadata": {},
   "outputs": [
    {
     "data": {
      "text/html": [
       "<table class=\"simpletable\">\n",
       "<caption>OLS Regression Results</caption>\n",
       "<tr>\n",
       "  <th>Dep. Variable:</th>     <td>Electric Range</td>  <th>  R-squared (uncentered):</th>       <td>   0.671</td>  \n",
       "</tr>\n",
       "<tr>\n",
       "  <th>Model:</th>                   <td>OLS</td>       <th>  Adj. R-squared (uncentered):</th>  <td>   0.671</td>  \n",
       "</tr>\n",
       "<tr>\n",
       "  <th>Method:</th>             <td>Least Squares</td>  <th>  F-statistic:       </th>           <td>7.049e+04</td> \n",
       "</tr>\n",
       "<tr>\n",
       "  <th>Date:</th>             <td>Sun, 02 Oct 2022</td> <th>  Prob (F-statistic):</th>            <td>  0.00</td>   \n",
       "</tr>\n",
       "<tr>\n",
       "  <th>Time:</th>                 <td>21:45:13</td>     <th>  Log-Likelihood:    </th>          <td>-4.1552e+05</td>\n",
       "</tr>\n",
       "<tr>\n",
       "  <th>No. Observations:</th>      <td> 69238</td>      <th>  AIC:               </th>           <td>8.310e+05</td> \n",
       "</tr>\n",
       "<tr>\n",
       "  <th>Df Residuals:</th>          <td> 69236</td>      <th>  BIC:               </th>           <td>8.311e+05</td> \n",
       "</tr>\n",
       "<tr>\n",
       "  <th>Df Model:</th>              <td>     2</td>      <th>                     </th>               <td> </td>     \n",
       "</tr>\n",
       "<tr>\n",
       "  <th>Covariance Type:</th>      <td>nonrobust</td>    <th>                     </th>               <td> </td>     \n",
       "</tr>\n",
       "</table>\n",
       "<table class=\"simpletable\">\n",
       "<tr>\n",
       "            <td></td>              <th>coef</th>     <th>std err</th>      <th>t</th>      <th>P>|t|</th>  <th>[0.025</th>    <th>0.975]</th>  \n",
       "</tr>\n",
       "<tr>\n",
       "  <th>Model Year</th>           <td>    0.0630</td> <td>    0.000</td> <td>  149.450</td> <td> 0.000</td> <td>    0.062</td> <td>    0.064</td>\n",
       "</tr>\n",
       "<tr>\n",
       "  <th>Legislative District</th> <td>    0.4068</td> <td>    0.025</td> <td>   15.971</td> <td> 0.000</td> <td>    0.357</td> <td>    0.457</td>\n",
       "</tr>\n",
       "</table>\n",
       "<table class=\"simpletable\">\n",
       "<tr>\n",
       "  <th>Omnibus:</th>       <td>526742.405</td> <th>  Durbin-Watson:     </th> <td>   2.011</td>\n",
       "</tr>\n",
       "<tr>\n",
       "  <th>Prob(Omnibus):</th>   <td> 0.000</td>   <th>  Jarque-Bera (JB):  </th> <td>6249.150</td>\n",
       "</tr>\n",
       "<tr>\n",
       "  <th>Skew:</th>            <td> 0.167</td>   <th>  Prob(JB):          </th> <td>    0.00</td>\n",
       "</tr>\n",
       "<tr>\n",
       "  <th>Kurtosis:</th>        <td> 1.567</td>   <th>  Cond. No.          </th> <td>    138.</td>\n",
       "</tr>\n",
       "</table><br/><br/>Notes:<br/>[1] R² is computed without centering (uncentered) since the model does not contain a constant.<br/>[2] Standard Errors assume that the covariance matrix of the errors is correctly specified."
      ],
      "text/plain": [
       "<class 'statsmodels.iolib.summary.Summary'>\n",
       "\"\"\"\n",
       "                                 OLS Regression Results                                \n",
       "=======================================================================================\n",
       "Dep. Variable:         Electric Range   R-squared (uncentered):                   0.671\n",
       "Model:                            OLS   Adj. R-squared (uncentered):              0.671\n",
       "Method:                 Least Squares   F-statistic:                          7.049e+04\n",
       "Date:                Sun, 02 Oct 2022   Prob (F-statistic):                        0.00\n",
       "Time:                        21:45:13   Log-Likelihood:                     -4.1552e+05\n",
       "No. Observations:               69238   AIC:                                  8.310e+05\n",
       "Df Residuals:                   69236   BIC:                                  8.311e+05\n",
       "Df Model:                           2                                                  \n",
       "Covariance Type:            nonrobust                                                  \n",
       "========================================================================================\n",
       "                           coef    std err          t      P>|t|      [0.025      0.975]\n",
       "----------------------------------------------------------------------------------------\n",
       "Model Year               0.0630      0.000    149.450      0.000       0.062       0.064\n",
       "Legislative District     0.4068      0.025     15.971      0.000       0.357       0.457\n",
       "==============================================================================\n",
       "Omnibus:                   526742.405   Durbin-Watson:                   2.011\n",
       "Prob(Omnibus):                  0.000   Jarque-Bera (JB):             6249.150\n",
       "Skew:                           0.167   Prob(JB):                         0.00\n",
       "Kurtosis:                       1.567   Cond. No.                         138.\n",
       "==============================================================================\n",
       "\n",
       "Notes:\n",
       "[1] R² is computed without centering (uncentered) since the model does not contain a constant.\n",
       "[2] Standard Errors assume that the covariance matrix of the errors is correctly specified.\n",
       "\"\"\""
      ]
     },
     "execution_count": 23,
     "metadata": {},
     "output_type": "execute_result"
    }
   ],
   "source": [
    "model = sm.OLS(y, df)\n",
    "result = model.fit()\n",
    "result.summary()"
   ]
  },
  {
   "cell_type": "code",
   "execution_count": 24,
   "id": "c04efbb9-adf7-414e-adca-1ff5541b8926",
   "metadata": {},
   "outputs": [
    {
     "data": {
      "text/plain": [
       "98052    1786\n",
       "98033    1296\n",
       "98115    1244\n",
       "98004    1174\n",
       "98006    1159\n",
       "         ... \n",
       "99173       1\n",
       "98025       1\n",
       "98326       1\n",
       "98537       1\n",
       "99139       1\n",
       "Name: ZIP Code, Length: 511, dtype: int64"
      ]
     },
     "execution_count": 24,
     "metadata": {},
     "output_type": "execute_result"
    }
   ],
   "source": [
    "electric.loc[:, 'ZIP Code'].value_counts()"
   ]
  },
  {
   "cell_type": "code",
   "execution_count": null,
   "id": "43faf742-8b3c-4402-a3c6-0c991a06317f",
   "metadata": {},
   "outputs": [],
   "source": []
  },
  {
   "cell_type": "code",
   "execution_count": null,
   "id": "0ec7ad2e-888a-4705-97cf-e4c0a5488498",
   "metadata": {},
   "outputs": [],
   "source": []
  }
 ],
 "metadata": {
  "kernelspec": {
   "display_name": "Python 3 (ipykernel)",
   "language": "python",
   "name": "python3"
  },
  "language_info": {
   "codemirror_mode": {
    "name": "ipython",
    "version": 3
   },
   "file_extension": ".py",
   "mimetype": "text/x-python",
   "name": "python",
   "nbconvert_exporter": "python",
   "pygments_lexer": "ipython3",
   "version": "3.9.7"
  }
 },
 "nbformat": 4,
 "nbformat_minor": 5
}
